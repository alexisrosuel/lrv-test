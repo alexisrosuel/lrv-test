{
 "cells": [
  {
   "cell_type": "code",
   "execution_count": 1,
   "metadata": {},
   "outputs": [],
   "source": [
    "from joblib import Parallel, delayed\n",
    "from tqdm import tqdm\n",
    "\n",
    "import numpy as np\n",
    "import polars as pl\n",
    "from lrv_test import LRV\n",
    "from scipy.linalg import sqrtm\n",
    "\n",
    "import pickle\n",
    "from pathlib import Path\n",
    "from typing import Callable\n",
    "\n",
    "from typing import Optional\n",
    "from data_generation.arma import generate_arma_sample, generate_ar_covariance_matrix\n",
    "from data_generation.spectral_density import _arma_spectral_density\n",
    "\n",
    "from data_generation.other import factor_model_sample, common_random_dependence_sample"
   ]
  },
  {
   "cell_type": "markdown",
   "metadata": {},
   "source": [
    "# Default values"
   ]
  },
  {
   "cell_type": "code",
   "execution_count": 23,
   "metadata": {},
   "outputs": [],
   "source": [
    "# for the LRV test, we will always use the following test functions\n",
    "f = lambda x: (x - 1) ** 2\n",
    "\n",
    "# we will always evaluate the test against these values of N and M\n",
    "# the results are valid for alpha < 7/9 which is approx 0.7778.\n",
    "# alpha=2/3 should give the best results\n",
    "alpha = 0.66\n",
    "N_range = np.linspace(1000, 8000, 8)\n",
    "c = 1 / 2\n",
    "gamma = 1 / 4  # L = int(N**gamma)\n",
    "\n",
    "# default values for the iid time series. We choose a small AR as that\n",
    "# creates a very spiky spectral density if too large\n",
    "time_ar, time_ma = 0.1, 0.5\n",
    "\n",
    "\n",
    "def get_freqs(N: int, B: int) -> np.ndarray:\n",
    "    # frequencies to evaluate, exclude -0.5 and 0 as they\n",
    "    # have not well behaved: big estimation error at these point\n",
    "    # for spectral density\n",
    "    return np.arange(-0.4, 0.6, B / N)\n",
    "\n",
    "\n",
    "# always repeat an experiment K times\n",
    "n_repeats = 10**4\n",
    "\n",
    "# threshold to detect\n",
    "level = 0.1\n",
    "\n",
    "# generate real gaussian data\n",
    "is_complex_gaussian = True\n",
    "\n",
    "# various computation (complex contour integral) should result in a\n",
    "# real value. We check that the imaginary part is smaller than this\n",
    "tolerance = 1e-5\n",
    "\n",
    "# path to the stored experiment results for easy reloading\n",
    "data_storage_path = \"./data/{experiment_type}/{experiment_id}.pickle\""
   ]
  },
  {
   "cell_type": "markdown",
   "metadata": {},
   "source": [
    "# Batch tools"
   ]
  },
  {
   "cell_type": "code",
   "execution_count": 24,
   "metadata": {},
   "outputs": [],
   "source": [
    "# Define the functions to store and load experiment results\n",
    "def run_batch(\n",
    "    run: Callable, n_repeats: int, experiment_type: str, run_kwargs: dict\n",
    ") -> None:\n",
    "    c = run_kwargs[\"M\"] / run_kwargs[\"B\"]\n",
    "\n",
    "    from lrv_test.contour import Contour\n",
    "    from lrv_test.functions import support_MP, t\n",
    "    from lrv_test.sigma import compute_sigma\n",
    "    from lrv_test.utils import action_D_on_f, contour_integral, psi\n",
    "\n",
    "    f_against_mp = action_D_on_f(f, lambda z: t(z, c), support_MP(c), tolerance)\n",
    "    support = (-np.sqrt(c), np.sqrt(c))\n",
    "    radius = (support[1] - support[0]) / 2\n",
    "    center = (support[0] + support[1]) / 2\n",
    "    contour = Contour.from_circle_parameters(center, radius)\n",
    "    f_against_D = contour_integral(\n",
    "        lambda w: -c / (2 * np.pi * 1j) * f(psi(w, c)) / (w**3), contour\n",
    "    )\n",
    "    f_against_D = np.real(f_against_D)\n",
    "    sigma = compute_sigma(f, c, tolerance)\n",
    "    precomputed = (f_against_mp, f_against_D, sigma)\n",
    "\n",
    "    experiment_id = \"_\".join(\n",
    "        f\"{key}={value}\"\n",
    "        for key, value in run_kwargs.items()\n",
    "        if isinstance(value, int) or isinstance(value, float) or isinstance(value, str)\n",
    "    )\n",
    "    resolved_data_path = Path(\n",
    "        data_storage_path.format(\n",
    "            experiment_type=experiment_type, experiment_id=experiment_id\n",
    "        )\n",
    "    )\n",
    "    if resolved_data_path.exists():\n",
    "        return\n",
    "        # pass\n",
    "    print(f\"Running {experiment_id}\")\n",
    "\n",
    "    resolved_data_path.parent.mkdir(parents=True, exist_ok=True)\n",
    "\n",
    "    results = [run(precomputed, **run_kwargs) for _ in range(n_repeats)]\n",
    "    with open(resolved_data_path, \"wb\") as handle:\n",
    "        pickle.dump(results, handle)\n",
    "\n",
    "\n",
    "def load_batch(experiment_type: str) -> pl.DataFrame:\n",
    "    # load the samples\n",
    "    all_results = []\n",
    "\n",
    "    resolved_data_path = Path(\n",
    "        data_storage_path.format(experiment_type=experiment_type, experiment_id=\"none\")\n",
    "    ).parent\n",
    "    for file in resolved_data_path.iterdir():\n",
    "        if file.stem == \".DS_Store\":\n",
    "            continue\n",
    "\n",
    "        with open(file, \"rb\") as handle:\n",
    "            results = pickle.load(handle)\n",
    "        all_results += results\n",
    "\n",
    "    df = pl.DataFrame(all_results)\n",
    "    return df"
   ]
  },
  {
   "cell_type": "markdown",
   "metadata": {},
   "source": [
    "# Level check"
   ]
  },
  {
   "cell_type": "code",
   "execution_count": 25,
   "metadata": {},
   "outputs": [],
   "source": [
    "def run(\n",
    "    precomputed,\n",
    "    N,\n",
    "    M,\n",
    "    B,\n",
    "    L,\n",
    "    c,\n",
    "    time_ar,\n",
    "    time_ma,\n",
    "    is_complex_gaussian,\n",
    "    coef_type: Optional[str] = None,\n",
    "    oracle_sd: Optional[Callable] = None,\n",
    "):\n",
    "    f_against_mp, f_against_D, sigma = precomputed\n",
    "    y = generate_arma_sample(\n",
    "        N,\n",
    "        M,\n",
    "        time_ar,\n",
    "        time_ma,\n",
    "        is_complex_gaussian,\n",
    "    )\n",
    "\n",
    "    freqs = get_freqs(N, B)\n",
    "    lrv_result = LRV(\n",
    "        y,\n",
    "        B,\n",
    "        f,\n",
    "        freqs,\n",
    "        L,\n",
    "        sd=oracle_sd,\n",
    "        f_against_mp=f_against_mp,\n",
    "        f_against_D=f_against_D,\n",
    "        sigma=sigma,\n",
    "    )\n",
    "\n",
    "    return {\n",
    "        \"N\": N,\n",
    "        \"M\": M,\n",
    "        \"B\": B,\n",
    "        \"L\": L,\n",
    "        \"c\": c,\n",
    "        # \"time_ar\": time_ar,\n",
    "        # \"time_ma\": time_ma,\n",
    "        \"is_complex_gaussian\": is_complex_gaussian,\n",
    "        \"t_stat_1\": lrv_result.t_stat_1,\n",
    "        \"t_stat_2\": lrv_result.t_stat_2,\n",
    "        \"t_stat_3\": lrv_result.t_stat_3,\n",
    "        \"t_stat_4\": lrv_result.t_stat_4,\n",
    "        \"is_positive_1\": lrv_result.is_positive_1(level),\n",
    "        \"is_positive_2\": lrv_result.is_positive_2(level),\n",
    "        \"is_positive_3\": lrv_result.is_positive_3(level),\n",
    "        \"is_positive_4\": lrv_result.is_positive_4(level),\n",
    "        \"coef_type\": coef_type,\n",
    "    }"
   ]
  },
  {
   "cell_type": "markdown",
   "metadata": {},
   "source": [
    "### Constant vs Random ARMA parameter"
   ]
  },
  {
   "cell_type": "code",
   "execution_count": 5,
   "metadata": {},
   "outputs": [
    {
     "name": "stderr",
     "output_type": "stream",
     "text": [
      "  0%|          | 0/16 [00:00<?, ?it/s]"
     ]
    },
    {
     "name": "stdout",
     "output_type": "stream",
     "text": [
      "Running N=6000_M=155_B=311_L=8_c=0.5_time_ar=0.1_time_ma=0.5_is_complex_gaussian=True_coef_type=constant\n",
      "Running N=3000_M=98_B=197_L=7_c=0.5_time_ar=0.1_time_ma=0.5_is_complex_gaussian=True_coef_type=constant\n",
      "Running N=4000_M=118_B=237_L=7_c=0.5_is_complex_gaussian=True_coef_type=random\n",
      "Running N=2000_M=74_B=149_L=6_c=0.5_is_complex_gaussian=True_coef_type=random\n"
     ]
    },
    {
     "name": "stderr",
     "output_type": "stream",
     "text": [
      " 50%|█████     | 8/16 [00:02<00:02,  3.03it/s]"
     ]
    },
    {
     "name": "stdout",
     "output_type": "stream",
     "text": [
      "Running N=4000_M=118_B=237_L=7_c=0.5_time_ar=0.1_time_ma=0.5_is_complex_gaussian=True_coef_type=constant\n",
      "Running N=1000_M=47_B=95_L=5_c=0.5_time_ar=0.1_time_ma=0.5_is_complex_gaussian=True_coef_type=constant\n",
      "Running N=5000_M=137_B=275_L=8_c=0.5_is_complex_gaussian=True_coef_type=random\n",
      "Running N=8000_M=187_B=375_L=9_c=0.5_is_complex_gaussian=True_coef_type=random\n"
     ]
    },
    {
     "name": "stderr",
     "output_type": "stream",
     "text": [
      " 75%|███████▌  | 12/16 [00:05<00:01,  2.12it/s]"
     ]
    },
    {
     "name": "stdout",
     "output_type": "stream",
     "text": [
      "Running N=1000_M=47_B=95_L=5_c=0.5_is_complex_gaussian=True_coef_type=random\n",
      "Running N=3000_M=98_B=197_L=7_c=0.5_is_complex_gaussian=True_coef_type=random\n",
      "Running N=7000_M=171_B=343_L=9_c=0.5_is_complex_gaussian=True_coef_type=random\n"
     ]
    },
    {
     "name": "stderr",
     "output_type": "stream",
     "text": [
      "100%|██████████| 16/16 [00:07<00:00,  2.14it/s]"
     ]
    },
    {
     "name": "stdout",
     "output_type": "stream",
     "text": [
      "Running N=5000_M=137_B=275_L=8_c=0.5_time_ar=0.1_time_ma=0.5_is_complex_gaussian=True_coef_type=constant\n",
      "Running N=2000_M=74_B=149_L=6_c=0.5_time_ar=0.1_time_ma=0.5_is_complex_gaussian=True_coef_type=constant\n"
     ]
    },
    {
     "name": "stderr",
     "output_type": "stream",
     "text": [
      "\n"
     ]
    },
    {
     "name": "stdout",
     "output_type": "stream",
     "text": [
      "Running N=6000_M=155_B=311_L=8_c=0.5_is_complex_gaussian=True_coef_type=random\n",
      "Running N=8000_M=187_B=375_L=9_c=0.5_time_ar=0.1_time_ma=0.5_is_complex_gaussian=True_coef_type=constant\n",
      "Running N=7000_M=171_B=343_L=9_c=0.5_time_ar=0.1_time_ma=0.5_is_complex_gaussian=True_coef_type=constant\n",
      "\\begin{tabular}{lrrrrrrrr}\n",
      "\\toprule\n",
      "coef_type & \\multicolumn{4}{r}{constant} & \\multicolumn{4}{r}{random} \\\\\n",
      "test & is_positive_1 & is_positive_2 & is_positive_3 & is_positive_4 & is_positive_1 & is_positive_2 & is_positive_3 & is_positive_4 \\\\\n",
      "N &  &  &  &  &  &  &  &  \\\\\n",
      "\\midrule\n",
      "1000 & 0.300 & 0.100 & 0.200 & 0.100 & 0.000 & 0.100 & 0.100 & 0.100 \\\\\n",
      "2000 & 0.000 & 0.200 & 0.100 & 0.100 & 0.100 & 0.000 & 0.000 & 0.100 \\\\\n",
      "3000 & 0.200 & 0.200 & 0.300 & 0.100 & 0.100 & 0.100 & 0.000 & 0.000 \\\\\n",
      "4000 & 0.000 & 0.000 & 0.100 & 0.100 & 0.300 & 0.000 & 0.000 & 0.000 \\\\\n",
      "5000 & 0.000 & 0.000 & 0.000 & 0.100 & 0.300 & 0.200 & 0.100 & 0.100 \\\\\n",
      "6000 & 0.100 & 0.100 & 0.000 & 0.000 & 0.000 & 0.100 & 0.000 & 0.000 \\\\\n",
      "7000 & 0.100 & 0.000 & 0.000 & 0.200 & 0.100 & 0.100 & 0.100 & 0.100 \\\\\n",
      "8000 & 0.200 & 0.200 & 0.100 & 0.200 & 0.100 & 0.300 & 0.000 & 0.000 \\\\\n",
      "\\bottomrule\n",
      "\\end{tabular}\n",
      "\n"
     ]
    }
   ],
   "source": [
    "tasks = []\n",
    "for coef_type in [\"constant\", \"random\"]:\n",
    "    for N in N_range:\n",
    "        L = int(N**gamma)\n",
    "        B = int(N**alpha)\n",
    "        if B % 2 == 0:\n",
    "            B -= 1\n",
    "        M = int(B * c)\n",
    "\n",
    "        if coef_type == \"constant\":\n",
    "            ar, ma = time_ar, time_ma\n",
    "        else:\n",
    "            ar, ma = np.random.uniform(-0.5, 0.5, M), np.random.uniform(-0.5, 0.5, M)\n",
    "\n",
    "        task = (\n",
    "            run,\n",
    "            n_repeats,\n",
    "            f\"arma_no_dependence\",\n",
    "            {\n",
    "                \"N\": int(N),\n",
    "                \"M\": int(M),\n",
    "                \"B\": int(B),\n",
    "                \"L\": int(L),\n",
    "                \"c\": c,\n",
    "                \"time_ar\": ar,\n",
    "                \"time_ma\": ma,\n",
    "                \"is_complex_gaussian\": is_complex_gaussian,\n",
    "                \"coef_type\": coef_type,\n",
    "            },\n",
    "        )\n",
    "\n",
    "        tasks.append(task)\n",
    "\n",
    "# shuffle the tasks to distribute the load over time\n",
    "np.random.shuffle(tasks)\n",
    "results = Parallel(n_jobs=4)(delayed(run_batch)(*task) for task in tqdm(tasks))\n",
    "\n",
    "df = load_batch(f\"arma_no_dependence\")\n",
    "df = df.unpivot(\n",
    "    index=[\"N\", \"M\", \"B\", \"L\", \"c\", \"is_complex_gaussian\", \"coef_type\"],\n",
    "    on=[f\"is_positive_{i}\" for i in range(1, 5)],\n",
    "    value_name=\"is_positive\",\n",
    "    variable_name=\"test\",\n",
    ")\n",
    "pivot = (\n",
    "    df.group_by([\"N\", \"test\", \"coef_type\"])\n",
    "    .mean()\n",
    "    .sort(by=[\"N\", \"coef_type\", \"test\"])\n",
    "    .to_pandas()\n",
    "    .pivot(index=\"N\", columns=[\"coef_type\", \"test\"], values=\"is_positive\")\n",
    ")\n",
    "print(pivot.to_latex(float_format=\"%.3f\"))"
   ]
  },
  {
   "cell_type": "code",
   "execution_count": 6,
   "metadata": {},
   "outputs": [
    {
     "data": {
      "text/html": [
       "<div>\n",
       "<style scoped>\n",
       "    .dataframe tbody tr th:only-of-type {\n",
       "        vertical-align: middle;\n",
       "    }\n",
       "\n",
       "    .dataframe tbody tr th {\n",
       "        vertical-align: top;\n",
       "    }\n",
       "\n",
       "    .dataframe thead tr th {\n",
       "        text-align: left;\n",
       "    }\n",
       "\n",
       "    .dataframe thead tr:last-of-type th {\n",
       "        text-align: right;\n",
       "    }\n",
       "</style>\n",
       "<table border=\"1\" class=\"dataframe\">\n",
       "  <thead>\n",
       "    <tr>\n",
       "      <th>coef_type</th>\n",
       "      <th colspan=\"4\" halign=\"left\">constant</th>\n",
       "      <th colspan=\"4\" halign=\"left\">random</th>\n",
       "    </tr>\n",
       "    <tr>\n",
       "      <th>test</th>\n",
       "      <th>is_positive_1</th>\n",
       "      <th>is_positive_2</th>\n",
       "      <th>is_positive_3</th>\n",
       "      <th>is_positive_4</th>\n",
       "      <th>is_positive_1</th>\n",
       "      <th>is_positive_2</th>\n",
       "      <th>is_positive_3</th>\n",
       "      <th>is_positive_4</th>\n",
       "    </tr>\n",
       "    <tr>\n",
       "      <th>N</th>\n",
       "      <th></th>\n",
       "      <th></th>\n",
       "      <th></th>\n",
       "      <th></th>\n",
       "      <th></th>\n",
       "      <th></th>\n",
       "      <th></th>\n",
       "      <th></th>\n",
       "    </tr>\n",
       "  </thead>\n",
       "  <tbody>\n",
       "    <tr>\n",
       "      <th>1000</th>\n",
       "      <td>0.3</td>\n",
       "      <td>0.1</td>\n",
       "      <td>0.2</td>\n",
       "      <td>0.1</td>\n",
       "      <td>0.0</td>\n",
       "      <td>0.1</td>\n",
       "      <td>0.1</td>\n",
       "      <td>0.1</td>\n",
       "    </tr>\n",
       "    <tr>\n",
       "      <th>2000</th>\n",
       "      <td>0.0</td>\n",
       "      <td>0.2</td>\n",
       "      <td>0.1</td>\n",
       "      <td>0.1</td>\n",
       "      <td>0.1</td>\n",
       "      <td>0.0</td>\n",
       "      <td>0.0</td>\n",
       "      <td>0.1</td>\n",
       "    </tr>\n",
       "    <tr>\n",
       "      <th>3000</th>\n",
       "      <td>0.2</td>\n",
       "      <td>0.2</td>\n",
       "      <td>0.3</td>\n",
       "      <td>0.1</td>\n",
       "      <td>0.1</td>\n",
       "      <td>0.1</td>\n",
       "      <td>0.0</td>\n",
       "      <td>0.0</td>\n",
       "    </tr>\n",
       "    <tr>\n",
       "      <th>4000</th>\n",
       "      <td>0.0</td>\n",
       "      <td>0.0</td>\n",
       "      <td>0.1</td>\n",
       "      <td>0.1</td>\n",
       "      <td>0.3</td>\n",
       "      <td>0.0</td>\n",
       "      <td>0.0</td>\n",
       "      <td>0.0</td>\n",
       "    </tr>\n",
       "    <tr>\n",
       "      <th>5000</th>\n",
       "      <td>0.0</td>\n",
       "      <td>0.0</td>\n",
       "      <td>0.0</td>\n",
       "      <td>0.1</td>\n",
       "      <td>0.3</td>\n",
       "      <td>0.2</td>\n",
       "      <td>0.1</td>\n",
       "      <td>0.1</td>\n",
       "    </tr>\n",
       "    <tr>\n",
       "      <th>6000</th>\n",
       "      <td>0.1</td>\n",
       "      <td>0.1</td>\n",
       "      <td>0.0</td>\n",
       "      <td>0.0</td>\n",
       "      <td>0.0</td>\n",
       "      <td>0.1</td>\n",
       "      <td>0.0</td>\n",
       "      <td>0.0</td>\n",
       "    </tr>\n",
       "    <tr>\n",
       "      <th>7000</th>\n",
       "      <td>0.1</td>\n",
       "      <td>0.0</td>\n",
       "      <td>0.0</td>\n",
       "      <td>0.2</td>\n",
       "      <td>0.1</td>\n",
       "      <td>0.1</td>\n",
       "      <td>0.1</td>\n",
       "      <td>0.1</td>\n",
       "    </tr>\n",
       "    <tr>\n",
       "      <th>8000</th>\n",
       "      <td>0.2</td>\n",
       "      <td>0.2</td>\n",
       "      <td>0.1</td>\n",
       "      <td>0.2</td>\n",
       "      <td>0.1</td>\n",
       "      <td>0.3</td>\n",
       "      <td>0.0</td>\n",
       "      <td>0.0</td>\n",
       "    </tr>\n",
       "  </tbody>\n",
       "</table>\n",
       "</div>"
      ],
      "text/plain": [
       "coef_type      constant                                            \\\n",
       "test      is_positive_1 is_positive_2 is_positive_3 is_positive_4   \n",
       "N                                                                   \n",
       "1000                0.3           0.1           0.2           0.1   \n",
       "2000                0.0           0.2           0.1           0.1   \n",
       "3000                0.2           0.2           0.3           0.1   \n",
       "4000                0.0           0.0           0.1           0.1   \n",
       "5000                0.0           0.0           0.0           0.1   \n",
       "6000                0.1           0.1           0.0           0.0   \n",
       "7000                0.1           0.0           0.0           0.2   \n",
       "8000                0.2           0.2           0.1           0.2   \n",
       "\n",
       "coef_type        random                                            \n",
       "test      is_positive_1 is_positive_2 is_positive_3 is_positive_4  \n",
       "N                                                                  \n",
       "1000                0.0           0.1           0.1           0.1  \n",
       "2000                0.1           0.0           0.0           0.1  \n",
       "3000                0.1           0.1           0.0           0.0  \n",
       "4000                0.3           0.0           0.0           0.0  \n",
       "5000                0.3           0.2           0.1           0.1  \n",
       "6000                0.0           0.1           0.0           0.0  \n",
       "7000                0.1           0.1           0.1           0.1  \n",
       "8000                0.1           0.3           0.0           0.0  "
      ]
     },
     "execution_count": 6,
     "metadata": {},
     "output_type": "execute_result"
    }
   ],
   "source": [
    "pivot"
   ]
  },
  {
   "cell_type": "markdown",
   "metadata": {},
   "source": [
    "### AR grid"
   ]
  },
  {
   "cell_type": "code",
   "execution_count": 7,
   "metadata": {},
   "outputs": [
    {
     "name": "stderr",
     "output_type": "stream",
     "text": [
      "  0%|          | 0/64 [00:00<?, ?it/s]"
     ]
    },
    {
     "name": "stdout",
     "output_type": "stream",
     "text": [
      "Running N=4000_M=118_B=237_L=7_c=0.5_time_ar=0.5000000000000001_time_ma=0_is_complex_gaussian=True\n",
      "Running N=4000_M=118_B=237_L=7_c=0.5_time_ar=0.1_time_ma=0_is_complex_gaussian=True\n",
      "Running N=7000_M=171_B=343_L=9_c=0.5_time_ar=0.5000000000000001_time_ma=0_is_complex_gaussian=True\n",
      "Running N=5000_M=137_B=275_L=8_c=0.5_time_ar=0.1_time_ma=0_is_complex_gaussian=True\n"
     ]
    },
    {
     "name": "stderr",
     "output_type": "stream",
     "text": [
      " 12%|█▎        | 8/64 [00:03<00:24,  2.32it/s]"
     ]
    },
    {
     "name": "stdout",
     "output_type": "stream",
     "text": [
      "Running N=1000_M=47_B=95_L=5_c=0.5_time_ar=0.7000000000000002_time_ma=0_is_complex_gaussian=True\n",
      "Running N=3000_M=98_B=197_L=7_c=0.5_time_ar=0.30000000000000004_time_ma=0_is_complex_gaussian=True\n",
      "Running N=2000_M=74_B=149_L=6_c=0.5_time_ar=0.30000000000000004_time_ma=0_is_complex_gaussian=True\n",
      "Running N=1000_M=47_B=95_L=5_c=0.5_time_ar=0.5000000000000001_time_ma=0_is_complex_gaussian=True\n"
     ]
    },
    {
     "name": "stderr",
     "output_type": "stream",
     "text": [
      " 19%|█▉        | 12/64 [00:05<00:26,  1.97it/s]"
     ]
    },
    {
     "name": "stdout",
     "output_type": "stream",
     "text": [
      "Running N=5000_M=137_B=275_L=8_c=0.5_time_ar=0.1_time_ma=0_is_complex_gaussian=True\n",
      "Running N=4000_M=118_B=237_L=7_c=0.5_time_ar=0.1_time_ma=0_is_complex_gaussian=True\n",
      "Running N=7000_M=171_B=343_L=9_c=0.5_time_ar=0.30000000000000004_time_ma=0_is_complex_gaussian=True\n",
      "Running N=6000_M=155_B=311_L=8_c=0.5_time_ar=0.5000000000000001_time_ma=0_is_complex_gaussian=True\n"
     ]
    },
    {
     "name": "stderr",
     "output_type": "stream",
     "text": [
      " 25%|██▌       | 16/64 [00:08<00:28,  1.66it/s]"
     ]
    },
    {
     "name": "stdout",
     "output_type": "stream",
     "text": [
      "Running N=5000_M=137_B=275_L=8_c=0.5_time_ar=0.5000000000000001_time_ma=0_is_complex_gaussian=True\n",
      "Running N=8000_M=187_B=375_L=9_c=0.5_time_ar=0.1_time_ma=0_is_complex_gaussian=True\n",
      "Running N=8000_M=187_B=375_L=9_c=0.5_time_ar=0.7000000000000002_time_ma=0_is_complex_gaussian=True\n",
      "Running N=8000_M=187_B=375_L=9_c=0.5_time_ar=0.1_time_ma=0_is_complex_gaussian=True\n"
     ]
    },
    {
     "name": "stderr",
     "output_type": "stream",
     "text": [
      " 31%|███▏      | 20/64 [00:15<00:40,  1.08it/s]"
     ]
    },
    {
     "name": "stdout",
     "output_type": "stream",
     "text": [
      "Running N=4000_M=118_B=237_L=7_c=0.5_time_ar=0.30000000000000004_time_ma=0_is_complex_gaussian=True\n",
      "Running N=8000_M=187_B=375_L=9_c=0.5_time_ar=0.30000000000000004_time_ma=0_is_complex_gaussian=True\n",
      "Running N=5000_M=137_B=275_L=8_c=0.5_time_ar=0.7000000000000002_time_ma=0_is_complex_gaussian=True\n",
      "Running N=6000_M=155_B=311_L=8_c=0.5_time_ar=0.1_time_ma=0_is_complex_gaussian=True\n"
     ]
    },
    {
     "name": "stderr",
     "output_type": "stream",
     "text": [
      " 38%|███▊      | 24/64 [00:25<00:57,  1.45s/it]"
     ]
    },
    {
     "name": "stdout",
     "output_type": "stream",
     "text": [
      "Running N=6000_M=155_B=311_L=8_c=0.5_time_ar=0.7000000000000002_time_ma=0_is_complex_gaussian=True\n",
      "Running N=3000_M=98_B=197_L=7_c=0.5_time_ar=0.7000000000000002_time_ma=0_is_complex_gaussian=True\n",
      "Running N=3000_M=98_B=197_L=7_c=0.5_time_ar=0.1_time_ma=0_is_complex_gaussian=True\n",
      "Running N=1000_M=47_B=95_L=5_c=0.5_time_ar=0.30000000000000004_time_ma=0_is_complex_gaussian=True\n"
     ]
    },
    {
     "name": "stderr",
     "output_type": "stream",
     "text": [
      " 44%|████▍     | 28/64 [00:28<00:45,  1.26s/it]"
     ]
    },
    {
     "name": "stdout",
     "output_type": "stream",
     "text": [
      "Running N=1000_M=47_B=95_L=5_c=0.5_time_ar=0.7000000000000002_time_ma=0_is_complex_gaussian=True\n",
      "Running N=4000_M=118_B=237_L=7_c=0.5_time_ar=0.5000000000000001_time_ma=0_is_complex_gaussian=True\n",
      "Running N=2000_M=74_B=149_L=6_c=0.5_time_ar=0.5000000000000001_time_ma=0_is_complex_gaussian=True\n",
      "Running N=3000_M=98_B=197_L=7_c=0.5_time_ar=0.7000000000000002_time_ma=0_is_complex_gaussian=True\n"
     ]
    },
    {
     "name": "stderr",
     "output_type": "stream",
     "text": [
      " 50%|█████     | 32/64 [00:31<00:34,  1.09s/it]"
     ]
    },
    {
     "name": "stdout",
     "output_type": "stream",
     "text": [
      "Running N=3000_M=98_B=197_L=7_c=0.5_time_ar=0.5000000000000001_time_ma=0_is_complex_gaussian=True\n",
      "Running N=2000_M=74_B=149_L=6_c=0.5_time_ar=0.7000000000000002_time_ma=0_is_complex_gaussian=True\n",
      "Running N=5000_M=137_B=275_L=8_c=0.5_time_ar=0.5000000000000001_time_ma=0_is_complex_gaussian=True\n",
      "Running N=6000_M=155_B=311_L=8_c=0.5_time_ar=0.5000000000000001_time_ma=0_is_complex_gaussian=True\n"
     ]
    },
    {
     "name": "stderr",
     "output_type": "stream",
     "text": [
      " 56%|█████▋    | 36/64 [00:33<00:26,  1.06it/s]"
     ]
    },
    {
     "name": "stdout",
     "output_type": "stream",
     "text": [
      "Running N=7000_M=171_B=343_L=9_c=0.5_time_ar=0.5000000000000001_time_ma=0_is_complex_gaussian=True\n",
      "Running N=2000_M=74_B=149_L=6_c=0.5_time_ar=0.7000000000000002_time_ma=0_is_complex_gaussian=True\n",
      "Running N=3000_M=98_B=197_L=7_c=0.5_time_ar=0.1_time_ma=0_is_complex_gaussian=True\n",
      "Running N=5000_M=137_B=275_L=8_c=0.5_time_ar=0.7000000000000002_time_ma=0_is_complex_gaussian=True\n"
     ]
    },
    {
     "name": "stderr",
     "output_type": "stream",
     "text": [
      " 62%|██████▎   | 40/64 [00:40<00:27,  1.16s/it]"
     ]
    },
    {
     "name": "stdout",
     "output_type": "stream",
     "text": [
      "Running N=8000_M=187_B=375_L=9_c=0.5_time_ar=0.5000000000000001_time_ma=0_is_complex_gaussian=True\n",
      "Running N=6000_M=155_B=311_L=8_c=0.5_time_ar=0.30000000000000004_time_ma=0_is_complex_gaussian=True\n",
      "Running N=1000_M=47_B=95_L=5_c=0.5_time_ar=0.1_time_ma=0_is_complex_gaussian=True\n",
      "Running N=3000_M=98_B=197_L=7_c=0.5_time_ar=0.5000000000000001_time_ma=0_is_complex_gaussian=True\n"
     ]
    },
    {
     "name": "stderr",
     "output_type": "stream",
     "text": [
      " 69%|██████▉   | 44/64 [00:44<00:22,  1.12s/it]"
     ]
    },
    {
     "name": "stdout",
     "output_type": "stream",
     "text": [
      "Running N=2000_M=74_B=149_L=6_c=0.5_time_ar=0.1_time_ma=0_is_complex_gaussian=True\n",
      "Running N=6000_M=155_B=311_L=8_c=0.5_time_ar=0.30000000000000004_time_ma=0_is_complex_gaussian=True\n",
      "Running N=7000_M=171_B=343_L=9_c=0.5_time_ar=0.1_time_ma=0_is_complex_gaussian=True\n",
      "Running N=5000_M=137_B=275_L=8_c=0.5_time_ar=0.30000000000000004_time_ma=0_is_complex_gaussian=True\n"
     ]
    },
    {
     "name": "stderr",
     "output_type": "stream",
     "text": [
      " 75%|███████▌  | 48/64 [00:47<00:16,  1.03s/it]"
     ]
    },
    {
     "name": "stdout",
     "output_type": "stream",
     "text": [
      "Running N=1000_M=47_B=95_L=5_c=0.5_time_ar=0.5000000000000001_time_ma=0_is_complex_gaussian=True\n",
      "Running N=7000_M=171_B=343_L=9_c=0.5_time_ar=0.1_time_ma=0_is_complex_gaussian=True\n",
      "Running N=5000_M=137_B=275_L=8_c=0.5_time_ar=0.30000000000000004_time_ma=0_is_complex_gaussian=True\n",
      "Running N=1000_M=47_B=95_L=5_c=0.5_time_ar=0.1_time_ma=0_is_complex_gaussian=True\n"
     ]
    },
    {
     "name": "stderr",
     "output_type": "stream",
     "text": [
      " 81%|████████▏ | 52/64 [00:49<00:10,  1.16it/s]"
     ]
    },
    {
     "name": "stdout",
     "output_type": "stream",
     "text": [
      "Running N=6000_M=155_B=311_L=8_c=0.5_time_ar=0.1_time_ma=0_is_complex_gaussian=True\n",
      "Running N=8000_M=187_B=375_L=9_c=0.5_time_ar=0.7000000000000002_time_ma=0_is_complex_gaussian=True\n",
      "Running N=4000_M=118_B=237_L=7_c=0.5_time_ar=0.7000000000000002_time_ma=0_is_complex_gaussian=True\n",
      "Running N=8000_M=187_B=375_L=9_c=0.5_time_ar=0.5000000000000001_time_ma=0_is_complex_gaussian=True\n"
     ]
    },
    {
     "name": "stderr",
     "output_type": "stream",
     "text": [
      " 88%|████████▊ | 56/64 [01:00<00:11,  1.44s/it]"
     ]
    },
    {
     "name": "stdout",
     "output_type": "stream",
     "text": [
      "Running N=2000_M=74_B=149_L=6_c=0.5_time_ar=0.5000000000000001_time_ma=0_is_complex_gaussian=True\n",
      "Running N=7000_M=171_B=343_L=9_c=0.5_time_ar=0.30000000000000004_time_ma=0_is_complex_gaussian=True\n",
      "Running N=4000_M=118_B=237_L=7_c=0.5_time_ar=0.7000000000000002_time_ma=0_is_complex_gaussian=True\n",
      "Running N=3000_M=98_B=197_L=7_c=0.5_time_ar=0.30000000000000004_time_ma=0_is_complex_gaussian=True\n"
     ]
    },
    {
     "name": "stderr",
     "output_type": "stream",
     "text": [
      " 94%|█████████▍| 60/64 [01:06<00:05,  1.43s/it]"
     ]
    },
    {
     "name": "stdout",
     "output_type": "stream",
     "text": [
      "Running N=4000_M=118_B=237_L=7_c=0.5_time_ar=0.30000000000000004_time_ma=0_is_complex_gaussian=True\n",
      "Running N=6000_M=155_B=311_L=8_c=0.5_time_ar=0.7000000000000002_time_ma=0_is_complex_gaussian=True\n",
      "Running N=1000_M=47_B=95_L=5_c=0.5_time_ar=0.30000000000000004_time_ma=0_is_complex_gaussian=True\n",
      "Running N=2000_M=74_B=149_L=6_c=0.5_time_ar=0.1_time_ma=0_is_complex_gaussian=True\n"
     ]
    },
    {
     "name": "stderr",
     "output_type": "stream",
     "text": [
      "100%|██████████| 64/64 [01:07<00:00,  1.06s/it]\n"
     ]
    },
    {
     "name": "stdout",
     "output_type": "stream",
     "text": [
      "Running N=7000_M=171_B=343_L=9_c=0.5_time_ar=0.7000000000000002_time_ma=0_is_complex_gaussian=True\n",
      "Running N=2000_M=74_B=149_L=6_c=0.5_time_ar=0.30000000000000004_time_ma=0_is_complex_gaussian=True\n",
      "Running N=8000_M=187_B=375_L=9_c=0.5_time_ar=0.30000000000000004_time_ma=0_is_complex_gaussian=True\n",
      "Running N=7000_M=171_B=343_L=9_c=0.5_time_ar=0.7000000000000002_time_ma=0_is_complex_gaussian=True\n"
     ]
    }
   ],
   "source": [
    "ma = 0\n",
    "ar_range = np.arange(0.1, 0.8, 0.2)\n",
    "\n",
    "tasks = []\n",
    "for N in N_range:\n",
    "    for ar in ar_range:\n",
    "        L = int(N**gamma)\n",
    "        B = int(N**alpha)\n",
    "        if B % 2 == 0:\n",
    "            B -= 1\n",
    "        M = int(B * c)\n",
    "\n",
    "        task = (\n",
    "            run,\n",
    "            n_repeats,\n",
    "            f\"arma_no_dependence_multiple_ar\",\n",
    "            {\n",
    "                \"N\": int(N),\n",
    "                \"M\": int(M),\n",
    "                \"B\": int(B),\n",
    "                \"L\": int(L),\n",
    "                \"c\": c,\n",
    "                \"time_ar\": ar,\n",
    "                \"time_ma\": ma,\n",
    "                \"is_complex_gaussian\": is_complex_gaussian,\n",
    "            },\n",
    "        )\n",
    "\n",
    "        tasks.append(task)\n",
    "\n",
    "        # also generate the oracle version\n",
    "        oracle_sd = _arma_spectral_density(ar, ma)\n",
    "\n",
    "        task = (\n",
    "            run,\n",
    "            n_repeats,\n",
    "            f\"arma_no_dependence_multiple_ar_oracle\",\n",
    "            {\n",
    "                \"N\": int(N),\n",
    "                \"M\": int(M),\n",
    "                \"B\": int(B),\n",
    "                \"L\": int(L),\n",
    "                \"c\": c,\n",
    "                \"time_ar\": ar,\n",
    "                \"time_ma\": ma,\n",
    "                \"oracle_sd\": oracle_sd,\n",
    "                \"is_complex_gaussian\": is_complex_gaussian,\n",
    "            },\n",
    "        )\n",
    "        tasks.append(task)\n",
    "\n",
    "# shuffle the tasks to distribute the load over time\n",
    "np.random.shuffle(tasks)\n",
    "results = Parallel(n_jobs=4)(delayed(run_batch)(*task) for task in tqdm(tasks))"
   ]
  },
  {
   "cell_type": "code",
   "execution_count": 9,
   "metadata": {},
   "outputs": [
    {
     "name": "stderr",
     "output_type": "stream",
     "text": [
      "/var/folders/ng/g1qy_rr97098d2b5gwfq8_s40000gn/T/ipykernel_62318/1242391768.py:2: DeprecationWarning: `DataFrame.melt` is deprecated. Use `unpivot` instead, with `index` instead of `id_vars` and `on` instead of `value_vars`\n",
      "  df = df.melt(\n"
     ]
    }
   ],
   "source": [
    "df = load_batch(f\"arma_no_dependence_multiple_ar\")\n",
    "df = df.melt(\n",
    "    id_vars=[\"N\", \"M\", \"B\", \"L\", \"c\", \"is_complex_gaussian\"],\n",
    "    value_vars=[f\"is_positive_{i}\" for i in range(1, 5)],\n",
    "    value_name=\"is_positive\",\n",
    "    variable_name=\"test\",\n",
    ")\n",
    "df = df.group_by([\"N\", \"M\", \"B\", \"L\", \"c\", \"is_complex_gaussian\", \"test\"]).mean()"
   ]
  },
  {
   "cell_type": "code",
   "execution_count": 11,
   "metadata": {},
   "outputs": [
    {
     "name": "stderr",
     "output_type": "stream",
     "text": [
      "/var/folders/ng/g1qy_rr97098d2b5gwfq8_s40000gn/T/ipykernel_62318/2761182397.py:2: DeprecationWarning: `DataFrame.melt` is deprecated. Use `unpivot` instead, with `index` instead of `id_vars` and `on` instead of `value_vars`\n",
      "  df_oracle = df_oracle.melt(\n"
     ]
    }
   ],
   "source": [
    "df_oracle = load_batch(f\"arma_no_dependence_multiple_ar_oracle\")\n",
    "df_oracle = df_oracle.melt(\n",
    "    id_vars=[\"N\", \"M\", \"B\", \"L\", \"c\", \"is_complex_gaussian\"],\n",
    "    value_vars=[f\"is_positive_{i}\" for i in range(1, 5)],\n",
    "    value_name=\"is_oracle_positive\",\n",
    "    variable_name=\"test\",\n",
    ")\n",
    "df_oracle = df_oracle.group_by(\n",
    "    [\"N\", \"M\", \"B\", \"L\", \"c\", \"is_complex_gaussian\", \"test\"]\n",
    ").mean()"
   ]
  },
  {
   "cell_type": "code",
   "execution_count": 14,
   "metadata": {},
   "outputs": [],
   "source": [
    "# merge df and df_oracle on N, M, B, L, c, time_ar, time_ma, is_complex_gaussian, ζ\n",
    "df = df.join(\n",
    "    df_oracle,\n",
    "    on=[\"N\", \"M\", \"B\", \"L\", \"c\", \"is_complex_gaussian\", \"test\"],\n",
    ")"
   ]
  },
  {
   "cell_type": "code",
   "execution_count": 13,
   "metadata": {},
   "outputs": [
    {
     "ename": "KeyError",
     "evalue": "'time_ar'",
     "output_type": "error",
     "traceback": [
      "\u001b[0;31m---------------------------------------------------------------------------\u001b[0m",
      "\u001b[0;31mKeyError\u001b[0m                                  Traceback (most recent call last)",
      "File \u001b[0;32m~/micromamba/envs/lrv312/lib/python3.12/site-packages/pandas/core/indexes/base.py:3805\u001b[0m, in \u001b[0;36mIndex.get_loc\u001b[0;34m(self, key)\u001b[0m\n\u001b[1;32m   3804\u001b[0m \u001b[38;5;28;01mtry\u001b[39;00m:\n\u001b[0;32m-> 3805\u001b[0m     \u001b[38;5;28;01mreturn\u001b[39;00m \u001b[38;5;28;43mself\u001b[39;49m\u001b[38;5;241;43m.\u001b[39;49m\u001b[43m_engine\u001b[49m\u001b[38;5;241;43m.\u001b[39;49m\u001b[43mget_loc\u001b[49m\u001b[43m(\u001b[49m\u001b[43mcasted_key\u001b[49m\u001b[43m)\u001b[49m\n\u001b[1;32m   3806\u001b[0m \u001b[38;5;28;01mexcept\u001b[39;00m \u001b[38;5;167;01mKeyError\u001b[39;00m \u001b[38;5;28;01mas\u001b[39;00m err:\n",
      "File \u001b[0;32mindex.pyx:167\u001b[0m, in \u001b[0;36mpandas._libs.index.IndexEngine.get_loc\u001b[0;34m()\u001b[0m\n",
      "File \u001b[0;32mindex.pyx:196\u001b[0m, in \u001b[0;36mpandas._libs.index.IndexEngine.get_loc\u001b[0;34m()\u001b[0m\n",
      "File \u001b[0;32mpandas/_libs/hashtable_class_helper.pxi:7081\u001b[0m, in \u001b[0;36mpandas._libs.hashtable.PyObjectHashTable.get_item\u001b[0;34m()\u001b[0m\n",
      "File \u001b[0;32mpandas/_libs/hashtable_class_helper.pxi:7089\u001b[0m, in \u001b[0;36mpandas._libs.hashtable.PyObjectHashTable.get_item\u001b[0;34m()\u001b[0m\n",
      "\u001b[0;31mKeyError\u001b[0m: 'time_ar'",
      "\nThe above exception was the direct cause of the following exception:\n",
      "\u001b[0;31mKeyError\u001b[0m                                  Traceback (most recent call last)",
      "Cell \u001b[0;32mIn[13], line 4\u001b[0m\n\u001b[1;32m      1\u001b[0m pivot \u001b[38;5;241m=\u001b[39m (\n\u001b[1;32m      2\u001b[0m     \u001b[43mdf\u001b[49m\u001b[38;5;241;43m.\u001b[39;49m\u001b[43mfilter\u001b[49m\u001b[43m(\u001b[49m\u001b[43mpl\u001b[49m\u001b[38;5;241;43m.\u001b[39;49m\u001b[43mcol\u001b[49m\u001b[43m(\u001b[49m\u001b[38;5;124;43m\"\u001b[39;49m\u001b[38;5;124;43mtest\u001b[39;49m\u001b[38;5;124;43m\"\u001b[39;49m\u001b[43m)\u001b[49m\u001b[38;5;241;43m.\u001b[39;49m\u001b[43mis_in\u001b[49m\u001b[43m(\u001b[49m\u001b[43m[\u001b[49m\u001b[38;5;124;43m\"\u001b[39;49m\u001b[38;5;124;43mis_positive_3\u001b[39;49m\u001b[38;5;124;43m\"\u001b[39;49m\u001b[43m]\u001b[49m\u001b[43m)\u001b[49m\u001b[43m)\u001b[49m\n\u001b[1;32m      3\u001b[0m \u001b[43m    \u001b[49m\u001b[38;5;241;43m.\u001b[39;49m\u001b[43mto_pandas\u001b[49m\u001b[43m(\u001b[49m\u001b[43m)\u001b[49m\n\u001b[0;32m----> 4\u001b[0m \u001b[43m    \u001b[49m\u001b[38;5;241;43m.\u001b[39;49m\u001b[43mpivot\u001b[49m\u001b[43m(\u001b[49m\n\u001b[1;32m      5\u001b[0m \u001b[43m        \u001b[49m\u001b[43mindex\u001b[49m\u001b[38;5;241;43m=\u001b[39;49m\u001b[38;5;124;43m\"\u001b[39;49m\u001b[38;5;124;43mN\u001b[39;49m\u001b[38;5;124;43m\"\u001b[39;49m\u001b[43m,\u001b[49m\n\u001b[1;32m      6\u001b[0m \u001b[43m        \u001b[49m\u001b[43mcolumns\u001b[49m\u001b[38;5;241;43m=\u001b[39;49m\u001b[43m[\u001b[49m\u001b[38;5;124;43m\"\u001b[39;49m\u001b[38;5;124;43mtime_ar\u001b[39;49m\u001b[38;5;124;43m\"\u001b[39;49m\u001b[43m]\u001b[49m\u001b[43m,\u001b[49m\n\u001b[1;32m      7\u001b[0m \u001b[43m        \u001b[49m\u001b[43mvalues\u001b[49m\u001b[38;5;241;43m=\u001b[39;49m\u001b[43m[\u001b[49m\u001b[38;5;124;43m\"\u001b[39;49m\u001b[38;5;124;43mis_positive\u001b[39;49m\u001b[38;5;124;43m\"\u001b[39;49m\u001b[43m,\u001b[49m\u001b[43m \u001b[49m\u001b[38;5;124;43m\"\u001b[39;49m\u001b[38;5;124;43mis_oracle_positive\u001b[39;49m\u001b[38;5;124;43m\"\u001b[39;49m\u001b[43m]\u001b[49m\u001b[43m,\u001b[49m\n\u001b[1;32m      8\u001b[0m \u001b[43m    \u001b[49m\u001b[43m)\u001b[49m\n\u001b[1;32m      9\u001b[0m )\n\u001b[1;32m     10\u001b[0m \u001b[38;5;28mprint\u001b[39m(pivot\u001b[38;5;241m.\u001b[39mto_latex(float_format\u001b[38;5;241m=\u001b[39m\u001b[38;5;124m\"\u001b[39m\u001b[38;5;132;01m%.3f\u001b[39;00m\u001b[38;5;124m\"\u001b[39m))\n",
      "File \u001b[0;32m~/micromamba/envs/lrv312/lib/python3.12/site-packages/pandas/core/frame.py:9339\u001b[0m, in \u001b[0;36mDataFrame.pivot\u001b[0;34m(self, columns, index, values)\u001b[0m\n\u001b[1;32m   9332\u001b[0m \u001b[38;5;129m@Substitution\u001b[39m(\u001b[38;5;124m\"\u001b[39m\u001b[38;5;124m\"\u001b[39m)\n\u001b[1;32m   9333\u001b[0m \u001b[38;5;129m@Appender\u001b[39m(_shared_docs[\u001b[38;5;124m\"\u001b[39m\u001b[38;5;124mpivot\u001b[39m\u001b[38;5;124m\"\u001b[39m])\n\u001b[1;32m   9334\u001b[0m \u001b[38;5;28;01mdef\u001b[39;00m \u001b[38;5;21mpivot\u001b[39m(\n\u001b[1;32m   9335\u001b[0m     \u001b[38;5;28mself\u001b[39m, \u001b[38;5;241m*\u001b[39m, columns, index\u001b[38;5;241m=\u001b[39mlib\u001b[38;5;241m.\u001b[39mno_default, values\u001b[38;5;241m=\u001b[39mlib\u001b[38;5;241m.\u001b[39mno_default\n\u001b[1;32m   9336\u001b[0m ) \u001b[38;5;241m-\u001b[39m\u001b[38;5;241m>\u001b[39m DataFrame:\n\u001b[1;32m   9337\u001b[0m     \u001b[38;5;28;01mfrom\u001b[39;00m \u001b[38;5;21;01mpandas\u001b[39;00m\u001b[38;5;21;01m.\u001b[39;00m\u001b[38;5;21;01mcore\u001b[39;00m\u001b[38;5;21;01m.\u001b[39;00m\u001b[38;5;21;01mreshape\u001b[39;00m\u001b[38;5;21;01m.\u001b[39;00m\u001b[38;5;21;01mpivot\u001b[39;00m \u001b[38;5;28;01mimport\u001b[39;00m pivot\n\u001b[0;32m-> 9339\u001b[0m     \u001b[38;5;28;01mreturn\u001b[39;00m \u001b[43mpivot\u001b[49m\u001b[43m(\u001b[49m\u001b[38;5;28;43mself\u001b[39;49m\u001b[43m,\u001b[49m\u001b[43m \u001b[49m\u001b[43mindex\u001b[49m\u001b[38;5;241;43m=\u001b[39;49m\u001b[43mindex\u001b[49m\u001b[43m,\u001b[49m\u001b[43m \u001b[49m\u001b[43mcolumns\u001b[49m\u001b[38;5;241;43m=\u001b[39;49m\u001b[43mcolumns\u001b[49m\u001b[43m,\u001b[49m\u001b[43m \u001b[49m\u001b[43mvalues\u001b[49m\u001b[38;5;241;43m=\u001b[39;49m\u001b[43mvalues\u001b[49m\u001b[43m)\u001b[49m\n",
      "File \u001b[0;32m~/micromamba/envs/lrv312/lib/python3.12/site-packages/pandas/core/reshape/pivot.py:555\u001b[0m, in \u001b[0;36mpivot\u001b[0;34m(data, columns, index, values)\u001b[0m\n\u001b[1;32m    552\u001b[0m \u001b[38;5;28;01melse\u001b[39;00m:\n\u001b[1;32m    553\u001b[0m     index_list \u001b[38;5;241m=\u001b[39m [data[idx] \u001b[38;5;28;01mfor\u001b[39;00m idx \u001b[38;5;129;01min\u001b[39;00m com\u001b[38;5;241m.\u001b[39mconvert_to_list_like(index)]\n\u001b[0;32m--> 555\u001b[0m data_columns \u001b[38;5;241m=\u001b[39m [\u001b[43mdata\u001b[49m\u001b[43m[\u001b[49m\u001b[43mcol\u001b[49m\u001b[43m]\u001b[49m \u001b[38;5;28;01mfor\u001b[39;00m col \u001b[38;5;129;01min\u001b[39;00m columns_listlike]\n\u001b[1;32m    556\u001b[0m index_list\u001b[38;5;241m.\u001b[39mextend(data_columns)\n\u001b[1;32m    557\u001b[0m multiindex \u001b[38;5;241m=\u001b[39m MultiIndex\u001b[38;5;241m.\u001b[39mfrom_arrays(index_list)\n",
      "File \u001b[0;32m~/micromamba/envs/lrv312/lib/python3.12/site-packages/pandas/core/frame.py:4102\u001b[0m, in \u001b[0;36mDataFrame.__getitem__\u001b[0;34m(self, key)\u001b[0m\n\u001b[1;32m   4100\u001b[0m \u001b[38;5;28;01mif\u001b[39;00m \u001b[38;5;28mself\u001b[39m\u001b[38;5;241m.\u001b[39mcolumns\u001b[38;5;241m.\u001b[39mnlevels \u001b[38;5;241m>\u001b[39m \u001b[38;5;241m1\u001b[39m:\n\u001b[1;32m   4101\u001b[0m     \u001b[38;5;28;01mreturn\u001b[39;00m \u001b[38;5;28mself\u001b[39m\u001b[38;5;241m.\u001b[39m_getitem_multilevel(key)\n\u001b[0;32m-> 4102\u001b[0m indexer \u001b[38;5;241m=\u001b[39m \u001b[38;5;28;43mself\u001b[39;49m\u001b[38;5;241;43m.\u001b[39;49m\u001b[43mcolumns\u001b[49m\u001b[38;5;241;43m.\u001b[39;49m\u001b[43mget_loc\u001b[49m\u001b[43m(\u001b[49m\u001b[43mkey\u001b[49m\u001b[43m)\u001b[49m\n\u001b[1;32m   4103\u001b[0m \u001b[38;5;28;01mif\u001b[39;00m is_integer(indexer):\n\u001b[1;32m   4104\u001b[0m     indexer \u001b[38;5;241m=\u001b[39m [indexer]\n",
      "File \u001b[0;32m~/micromamba/envs/lrv312/lib/python3.12/site-packages/pandas/core/indexes/base.py:3812\u001b[0m, in \u001b[0;36mIndex.get_loc\u001b[0;34m(self, key)\u001b[0m\n\u001b[1;32m   3807\u001b[0m     \u001b[38;5;28;01mif\u001b[39;00m \u001b[38;5;28misinstance\u001b[39m(casted_key, \u001b[38;5;28mslice\u001b[39m) \u001b[38;5;129;01mor\u001b[39;00m (\n\u001b[1;32m   3808\u001b[0m         \u001b[38;5;28misinstance\u001b[39m(casted_key, abc\u001b[38;5;241m.\u001b[39mIterable)\n\u001b[1;32m   3809\u001b[0m         \u001b[38;5;129;01mand\u001b[39;00m \u001b[38;5;28many\u001b[39m(\u001b[38;5;28misinstance\u001b[39m(x, \u001b[38;5;28mslice\u001b[39m) \u001b[38;5;28;01mfor\u001b[39;00m x \u001b[38;5;129;01min\u001b[39;00m casted_key)\n\u001b[1;32m   3810\u001b[0m     ):\n\u001b[1;32m   3811\u001b[0m         \u001b[38;5;28;01mraise\u001b[39;00m InvalidIndexError(key)\n\u001b[0;32m-> 3812\u001b[0m     \u001b[38;5;28;01mraise\u001b[39;00m \u001b[38;5;167;01mKeyError\u001b[39;00m(key) \u001b[38;5;28;01mfrom\u001b[39;00m \u001b[38;5;21;01merr\u001b[39;00m\n\u001b[1;32m   3813\u001b[0m \u001b[38;5;28;01mexcept\u001b[39;00m \u001b[38;5;167;01mTypeError\u001b[39;00m:\n\u001b[1;32m   3814\u001b[0m     \u001b[38;5;66;03m# If we have a listlike key, _check_indexing_error will raise\u001b[39;00m\n\u001b[1;32m   3815\u001b[0m     \u001b[38;5;66;03m#  InvalidIndexError. Otherwise we fall through and re-raise\u001b[39;00m\n\u001b[1;32m   3816\u001b[0m     \u001b[38;5;66;03m#  the TypeError.\u001b[39;00m\n\u001b[1;32m   3817\u001b[0m     \u001b[38;5;28mself\u001b[39m\u001b[38;5;241m.\u001b[39m_check_indexing_error(key)\n",
      "\u001b[0;31mKeyError\u001b[0m: 'time_ar'"
     ]
    }
   ],
   "source": [
    "pivot = (\n",
    "    df.filter(pl.col(\"test\").is_in([\"is_positive_3\"]))\n",
    "    .to_pandas()\n",
    "    .pivot(\n",
    "        index=\"N\",\n",
    "        columns=[\"time_ar\"],\n",
    "        values=[\"is_positive\", \"is_oracle_positive\"],\n",
    "    )\n",
    ")\n",
    "print(pivot.to_latex(float_format=\"%.3f\"))"
   ]
  },
  {
   "cell_type": "code",
   "execution_count": null,
   "metadata": {},
   "outputs": [
    {
     "data": {
      "text/html": [
       "<div>\n",
       "<style scoped>\n",
       "    .dataframe tbody tr th:only-of-type {\n",
       "        vertical-align: middle;\n",
       "    }\n",
       "\n",
       "    .dataframe tbody tr th {\n",
       "        vertical-align: top;\n",
       "    }\n",
       "\n",
       "    .dataframe thead tr th {\n",
       "        text-align: left;\n",
       "    }\n",
       "\n",
       "    .dataframe thead tr:last-of-type th {\n",
       "        text-align: right;\n",
       "    }\n",
       "</style>\n",
       "<table border=\"1\" class=\"dataframe\">\n",
       "  <thead>\n",
       "    <tr>\n",
       "      <th></th>\n",
       "      <th colspan=\"4\" halign=\"left\">is_positive</th>\n",
       "      <th colspan=\"4\" halign=\"left\">is_oracle_positive</th>\n",
       "    </tr>\n",
       "    <tr>\n",
       "      <th>time_ar</th>\n",
       "      <th>0.1</th>\n",
       "      <th>0.3</th>\n",
       "      <th>0.5</th>\n",
       "      <th>0.7</th>\n",
       "      <th>0.1</th>\n",
       "      <th>0.3</th>\n",
       "      <th>0.5</th>\n",
       "      <th>0.7</th>\n",
       "    </tr>\n",
       "    <tr>\n",
       "      <th>N</th>\n",
       "      <th></th>\n",
       "      <th></th>\n",
       "      <th></th>\n",
       "      <th></th>\n",
       "      <th></th>\n",
       "      <th></th>\n",
       "      <th></th>\n",
       "      <th></th>\n",
       "    </tr>\n",
       "  </thead>\n",
       "  <tbody>\n",
       "    <tr>\n",
       "      <th>1000</th>\n",
       "      <td>0.10</td>\n",
       "      <td>0.07</td>\n",
       "      <td>0.18</td>\n",
       "      <td>1.0</td>\n",
       "      <td>0.06</td>\n",
       "      <td>0.08</td>\n",
       "      <td>0.07</td>\n",
       "      <td>0.31</td>\n",
       "    </tr>\n",
       "    <tr>\n",
       "      <th>2000</th>\n",
       "      <td>0.06</td>\n",
       "      <td>0.05</td>\n",
       "      <td>0.17</td>\n",
       "      <td>1.0</td>\n",
       "      <td>0.03</td>\n",
       "      <td>0.10</td>\n",
       "      <td>0.10</td>\n",
       "      <td>0.44</td>\n",
       "    </tr>\n",
       "    <tr>\n",
       "      <th>3000</th>\n",
       "      <td>0.09</td>\n",
       "      <td>0.12</td>\n",
       "      <td>0.07</td>\n",
       "      <td>1.0</td>\n",
       "      <td>0.12</td>\n",
       "      <td>0.12</td>\n",
       "      <td>0.04</td>\n",
       "      <td>0.21</td>\n",
       "    </tr>\n",
       "    <tr>\n",
       "      <th>4000</th>\n",
       "      <td>0.09</td>\n",
       "      <td>0.10</td>\n",
       "      <td>0.09</td>\n",
       "      <td>1.0</td>\n",
       "      <td>0.07</td>\n",
       "      <td>0.06</td>\n",
       "      <td>0.10</td>\n",
       "      <td>0.20</td>\n",
       "    </tr>\n",
       "    <tr>\n",
       "      <th>5000</th>\n",
       "      <td>0.09</td>\n",
       "      <td>0.08</td>\n",
       "      <td>0.14</td>\n",
       "      <td>1.0</td>\n",
       "      <td>0.14</td>\n",
       "      <td>0.16</td>\n",
       "      <td>0.08</td>\n",
       "      <td>0.20</td>\n",
       "    </tr>\n",
       "    <tr>\n",
       "      <th>6000</th>\n",
       "      <td>0.07</td>\n",
       "      <td>0.11</td>\n",
       "      <td>0.10</td>\n",
       "      <td>1.0</td>\n",
       "      <td>0.11</td>\n",
       "      <td>0.11</td>\n",
       "      <td>0.15</td>\n",
       "      <td>0.19</td>\n",
       "    </tr>\n",
       "    <tr>\n",
       "      <th>7000</th>\n",
       "      <td>0.11</td>\n",
       "      <td>0.06</td>\n",
       "      <td>0.14</td>\n",
       "      <td>1.0</td>\n",
       "      <td>0.09</td>\n",
       "      <td>0.10</td>\n",
       "      <td>0.10</td>\n",
       "      <td>0.17</td>\n",
       "    </tr>\n",
       "    <tr>\n",
       "      <th>8000</th>\n",
       "      <td>0.12</td>\n",
       "      <td>0.07</td>\n",
       "      <td>0.10</td>\n",
       "      <td>1.0</td>\n",
       "      <td>0.06</td>\n",
       "      <td>0.10</td>\n",
       "      <td>0.07</td>\n",
       "      <td>0.19</td>\n",
       "    </tr>\n",
       "  </tbody>\n",
       "</table>\n",
       "</div>"
      ],
      "text/plain": [
       "        is_positive                  is_oracle_positive                  \n",
       "time_ar         0.1   0.3   0.5  0.7                0.1   0.3   0.5   0.7\n",
       "N                                                                        \n",
       "1000           0.10  0.07  0.18  1.0               0.06  0.08  0.07  0.31\n",
       "2000           0.06  0.05  0.17  1.0               0.03  0.10  0.10  0.44\n",
       "3000           0.09  0.12  0.07  1.0               0.12  0.12  0.04  0.21\n",
       "4000           0.09  0.10  0.09  1.0               0.07  0.06  0.10  0.20\n",
       "5000           0.09  0.08  0.14  1.0               0.14  0.16  0.08  0.20\n",
       "6000           0.07  0.11  0.10  1.0               0.11  0.11  0.15  0.19\n",
       "7000           0.11  0.06  0.14  1.0               0.09  0.10  0.10  0.17\n",
       "8000           0.12  0.07  0.10  1.0               0.06  0.10  0.07  0.19"
      ]
     },
     "execution_count": 12,
     "metadata": {},
     "output_type": "execute_result"
    }
   ],
   "source": [
    "pivot"
   ]
  },
  {
   "cell_type": "markdown",
   "metadata": {},
   "source": [
    "### Correction"
   ]
  },
  {
   "cell_type": "code",
   "execution_count": 26,
   "metadata": {},
   "outputs": [
    {
     "name": "stderr",
     "output_type": "stream",
     "text": [
      "  0%|          | 0/16 [00:00<?, ?it/s]"
     ]
    },
    {
     "name": "stdout",
     "output_type": "stream",
     "text": [
      "Running N=6000_M=91_B=183_L=8_c=0.5_time_ar=0.1_time_ma=0.5_is_complex_gaussian=True\n",
      "Running N=8000_M=109_B=219_c=0.5_time_ar=0.1_time_ma=0.5_is_complex_gaussian=True\n",
      "Running N=7000_M=100_B=201_L=9_c=0.5_time_ar=0.1_time_ma=0.5_is_complex_gaussian=True\n",
      "Running N=2000_M=47_B=95_c=0.5_time_ar=0.1_time_ma=0.5_is_complex_gaussian=True\n"
     ]
    },
    {
     "name": "stderr",
     "output_type": "stream",
     "text": [
      " 50%|█████     | 8/16 [04:55<04:55, 36.97s/it]"
     ]
    },
    {
     "name": "stdout",
     "output_type": "stream",
     "text": [
      "Running N=8000_M=109_B=219_L=9_c=0.5_time_ar=0.1_time_ma=0.5_is_complex_gaussian=True\n",
      "Running N=1000_M=31_B=63_c=0.5_time_ar=0.1_time_ma=0.5_is_complex_gaussian=True\n",
      "Running N=3000_M=60_B=121_c=0.5_time_ar=0.1_time_ma=0.5_is_complex_gaussian=True\n",
      "Running N=6000_M=91_B=183_c=0.5_time_ar=0.1_time_ma=0.5_is_complex_gaussian=True\n"
     ]
    },
    {
     "name": "stderr",
     "output_type": "stream",
     "text": [
      " 75%|███████▌  | 12/16 [1:03:23<25:48, 387.00s/it]"
     ]
    },
    {
     "name": "stdout",
     "output_type": "stream",
     "text": [
      "Running N=4000_M=71_B=143_c=0.5_time_ar=0.1_time_ma=0.5_is_complex_gaussian=True\n",
      "Running N=3000_M=60_B=121_L=7_c=0.5_time_ar=0.1_time_ma=0.5_is_complex_gaussian=True\n",
      "Running N=5000_M=82_B=165_c=0.5_time_ar=0.1_time_ma=0.5_is_complex_gaussian=True\n",
      "Running N=4000_M=71_B=143_L=7_c=0.5_time_ar=0.1_time_ma=0.5_is_complex_gaussian=True\n"
     ]
    },
    {
     "name": "stderr",
     "output_type": "stream",
     "text": [
      "100%|██████████| 16/16 [1:24:03<00:00, 315.22s/it]\n"
     ]
    },
    {
     "name": "stdout",
     "output_type": "stream",
     "text": [
      "Running N=2000_M=47_B=95_L=6_c=0.5_time_ar=0.1_time_ma=0.5_is_complex_gaussian=True\n",
      "Running N=5000_M=82_B=165_L=8_c=0.5_time_ar=0.1_time_ma=0.5_is_complex_gaussian=True\n",
      "Running N=1000_M=31_B=63_L=5_c=0.5_time_ar=0.1_time_ma=0.5_is_complex_gaussian=True\n",
      "Running N=7000_M=100_B=201_c=0.5_time_ar=0.1_time_ma=0.5_is_complex_gaussian=True\n"
     ]
    }
   ],
   "source": [
    "alpha = 0.6\n",
    "\n",
    "tasks = []\n",
    "for N in N_range:\n",
    "    L = int(N**gamma)\n",
    "    B = int(N**alpha)\n",
    "    if B % 2 == 0:\n",
    "        B -= 1\n",
    "    M = int(B * c)\n",
    "\n",
    "    # compute the corrective term in s_m(nu)\n",
    "    oracle_sd = None\n",
    "\n",
    "    task = (\n",
    "        run,\n",
    "        n_repeats,\n",
    "        f\"arma_no_dependence_with_correction\",\n",
    "        {\n",
    "            \"N\": int(N),\n",
    "            \"M\": int(M),\n",
    "            \"B\": int(B),\n",
    "            \"L\": int(L),\n",
    "            \"c\": c,\n",
    "            \"time_ar\": time_ar,\n",
    "            \"time_ma\": time_ma,\n",
    "            \"oracle_sd\": oracle_sd,\n",
    "            \"is_complex_gaussian\": is_complex_gaussian,\n",
    "        },\n",
    "    )\n",
    "    tasks.append(task)\n",
    "\n",
    "    # don't compute the corrective term in s_m(nu)\n",
    "    oracle_sd = None\n",
    "    L = None\n",
    "\n",
    "    task = (\n",
    "        run,\n",
    "        n_repeats,\n",
    "        f\"arma_no_dependence_no_correction\",\n",
    "        {\n",
    "            \"N\": int(N),\n",
    "            \"M\": int(M),\n",
    "            \"B\": int(B),\n",
    "            \"L\": None,\n",
    "            \"c\": c,\n",
    "            \"time_ar\": time_ar,\n",
    "            \"time_ma\": time_ma,\n",
    "            \"oracle_sd\": oracle_sd,\n",
    "            \"is_complex_gaussian\": is_complex_gaussian,\n",
    "        },\n",
    "    )\n",
    "    tasks.append(task)\n",
    "\n",
    "# shuffle the tasks to distribute the load over time\n",
    "np.random.shuffle(tasks)\n",
    "results = Parallel(n_jobs=4)(delayed(run_batch)(*task) for task in tqdm(tasks))"
   ]
  },
  {
   "cell_type": "code",
   "execution_count": 27,
   "metadata": {},
   "outputs": [
    {
     "data": {
      "text/html": [
       "<div><style>\n",
       ".dataframe > thead > tr,\n",
       ".dataframe > tbody > tr {\n",
       "  text-align: right;\n",
       "  white-space: pre-wrap;\n",
       "}\n",
       "</style>\n",
       "<small>shape: (32, 8)</small><table border=\"1\" class=\"dataframe\"><thead><tr><th>N</th><th>M</th><th>B</th><th>c</th><th>is_complex_gaussian</th><th>test</th><th>is_positive</th><th>is_positive_no_rn</th></tr><tr><td>i64</td><td>i64</td><td>i64</td><td>f64</td><td>bool</td><td>str</td><td>f64</td><td>f64</td></tr></thead><tbody><tr><td>8000</td><td>109</td><td>219</td><td>0.5</td><td>true</td><td>&quot;is_positive_4&quot;</td><td>0.0</td><td>0.0</td></tr><tr><td>3000</td><td>60</td><td>121</td><td>0.5</td><td>true</td><td>&quot;is_positive_4&quot;</td><td>0.0</td><td>0.1</td></tr><tr><td>6000</td><td>91</td><td>183</td><td>0.5</td><td>true</td><td>&quot;is_positive_1&quot;</td><td>0.1</td><td>0.2</td></tr><tr><td>5000</td><td>82</td><td>165</td><td>0.5</td><td>true</td><td>&quot;is_positive_1&quot;</td><td>0.1</td><td>0.5</td></tr><tr><td>7000</td><td>100</td><td>201</td><td>0.5</td><td>true</td><td>&quot;is_positive_4&quot;</td><td>0.1</td><td>0.1</td></tr><tr><td>&hellip;</td><td>&hellip;</td><td>&hellip;</td><td>&hellip;</td><td>&hellip;</td><td>&hellip;</td><td>&hellip;</td><td>&hellip;</td></tr><tr><td>5000</td><td>82</td><td>165</td><td>0.5</td><td>true</td><td>&quot;is_positive_2&quot;</td><td>0.1</td><td>0.0</td></tr><tr><td>2000</td><td>47</td><td>95</td><td>0.5</td><td>true</td><td>&quot;is_positive_2&quot;</td><td>0.2</td><td>0.2</td></tr><tr><td>4000</td><td>71</td><td>143</td><td>0.5</td><td>true</td><td>&quot;is_positive_3&quot;</td><td>0.0</td><td>0.1</td></tr><tr><td>7000</td><td>100</td><td>201</td><td>0.5</td><td>true</td><td>&quot;is_positive_1&quot;</td><td>0.1</td><td>0.6</td></tr><tr><td>1000</td><td>31</td><td>63</td><td>0.5</td><td>true</td><td>&quot;is_positive_1&quot;</td><td>0.0</td><td>0.2</td></tr></tbody></table></div>"
      ],
      "text/plain": [
       "shape: (32, 8)\n",
       "┌──────┬─────┬─────┬─────┬─────────────────────┬───────────────┬─────────────┬───────────────────┐\n",
       "│ N    ┆ M   ┆ B   ┆ c   ┆ is_complex_gaussian ┆ test          ┆ is_positive ┆ is_positive_no_rn │\n",
       "│ ---  ┆ --- ┆ --- ┆ --- ┆ ---                 ┆ ---           ┆ ---         ┆ ---               │\n",
       "│ i64  ┆ i64 ┆ i64 ┆ f64 ┆ bool                ┆ str           ┆ f64         ┆ f64               │\n",
       "╞══════╪═════╪═════╪═════╪═════════════════════╪═══════════════╪═════════════╪═══════════════════╡\n",
       "│ 8000 ┆ 109 ┆ 219 ┆ 0.5 ┆ true                ┆ is_positive_4 ┆ 0.0         ┆ 0.0               │\n",
       "│ 3000 ┆ 60  ┆ 121 ┆ 0.5 ┆ true                ┆ is_positive_4 ┆ 0.0         ┆ 0.1               │\n",
       "│ 6000 ┆ 91  ┆ 183 ┆ 0.5 ┆ true                ┆ is_positive_1 ┆ 0.1         ┆ 0.2               │\n",
       "│ 5000 ┆ 82  ┆ 165 ┆ 0.5 ┆ true                ┆ is_positive_1 ┆ 0.1         ┆ 0.5               │\n",
       "│ 7000 ┆ 100 ┆ 201 ┆ 0.5 ┆ true                ┆ is_positive_4 ┆ 0.1         ┆ 0.1               │\n",
       "│ …    ┆ …   ┆ …   ┆ …   ┆ …                   ┆ …             ┆ …           ┆ …                 │\n",
       "│ 5000 ┆ 82  ┆ 165 ┆ 0.5 ┆ true                ┆ is_positive_2 ┆ 0.1         ┆ 0.0               │\n",
       "│ 2000 ┆ 47  ┆ 95  ┆ 0.5 ┆ true                ┆ is_positive_2 ┆ 0.2         ┆ 0.2               │\n",
       "│ 4000 ┆ 71  ┆ 143 ┆ 0.5 ┆ true                ┆ is_positive_3 ┆ 0.0         ┆ 0.1               │\n",
       "│ 7000 ┆ 100 ┆ 201 ┆ 0.5 ┆ true                ┆ is_positive_1 ┆ 0.1         ┆ 0.6               │\n",
       "│ 1000 ┆ 31  ┆ 63  ┆ 0.5 ┆ true                ┆ is_positive_1 ┆ 0.0         ┆ 0.2               │\n",
       "└──────┴─────┴─────┴─────┴─────────────────────┴───────────────┴─────────────┴───────────────────┘"
      ]
     },
     "execution_count": 27,
     "metadata": {},
     "output_type": "execute_result"
    }
   ],
   "source": [
    "df"
   ]
  },
  {
   "cell_type": "code",
   "execution_count": 28,
   "metadata": {},
   "outputs": [
    {
     "name": "stderr",
     "output_type": "stream",
     "text": [
      "/var/folders/ng/g1qy_rr97098d2b5gwfq8_s40000gn/T/ipykernel_62318/1270341570.py:2: DeprecationWarning: `DataFrame.melt` is deprecated. Use `unpivot` instead, with `index` instead of `id_vars` and `on` instead of `value_vars`\n",
      "  df = df.melt(\n"
     ]
    }
   ],
   "source": [
    "df = load_batch(f\"arma_no_dependence_with_correction\").drop(\"L\")\n",
    "df = df.melt(\n",
    "    id_vars=[\"N\", \"M\", \"B\", \"c\", \"is_complex_gaussian\"],\n",
    "    value_vars=[f\"is_positive_{i}\" for i in range(1, 5)],\n",
    "    value_name=\"is_positive\",\n",
    "    variable_name=\"test\",\n",
    ")\n",
    "df = df.group_by([\"N\", \"M\", \"B\", \"c\", \"is_complex_gaussian\", \"test\"]).mean()"
   ]
  },
  {
   "cell_type": "code",
   "execution_count": 29,
   "metadata": {},
   "outputs": [
    {
     "name": "stderr",
     "output_type": "stream",
     "text": [
      "/var/folders/ng/g1qy_rr97098d2b5gwfq8_s40000gn/T/ipykernel_62318/1893697820.py:2: DeprecationWarning: `DataFrame.melt` is deprecated. Use `unpivot` instead, with `index` instead of `id_vars` and `on` instead of `value_vars`\n",
      "  df_no = df_no.melt(\n"
     ]
    }
   ],
   "source": [
    "df_no = load_batch(f\"arma_no_dependence_no_correction\").drop(\"L\")\n",
    "df_no = df_no.melt(\n",
    "    id_vars=[\"N\", \"M\", \"B\", \"c\", \"is_complex_gaussian\"],\n",
    "    value_vars=[f\"is_positive_{i}\" for i in range(1, 5)],\n",
    "    value_name=\"is_positive_no_rn\",\n",
    "    variable_name=\"test\",\n",
    ")\n",
    "df_no = df_no.group_by([\"N\", \"M\", \"B\", \"c\", \"is_complex_gaussian\", \"test\"]).mean()"
   ]
  },
  {
   "cell_type": "code",
   "execution_count": 30,
   "metadata": {},
   "outputs": [],
   "source": [
    "# merge df and df_oracle on N, M, B, L, c, time_ar, time_ma, is_complex_gaussian, ζ\n",
    "df = df.join(\n",
    "    df_no,\n",
    "    on=[\"N\", \"M\", \"B\", \"c\", \"is_complex_gaussian\", \"test\"],\n",
    ")"
   ]
  },
  {
   "cell_type": "code",
   "execution_count": 31,
   "metadata": {},
   "outputs": [
    {
     "name": "stdout",
     "output_type": "stream",
     "text": [
      "\\begin{tabular}{lrrrrrrrr}\n",
      "\\toprule\n",
      " & \\multicolumn{4}{r}{is_positive} & \\multicolumn{4}{r}{is_positive_no_rn} \\\\\n",
      "test & is_positive_1 & is_positive_2 & is_positive_3 & is_positive_4 & is_positive_1 & is_positive_2 & is_positive_3 & is_positive_4 \\\\\n",
      "N &  &  &  &  &  &  &  &  \\\\\n",
      "\\midrule\n",
      "1000 & 0.098 & 0.079 & 0.089 & 0.072 & 0.244 & 0.120 & 0.146 & 0.119 \\\\\n",
      "2000 & 0.115 & 0.096 & 0.097 & 0.071 & 0.278 & 0.127 & 0.150 & 0.113 \\\\\n",
      "3000 & 0.107 & 0.087 & 0.093 & 0.077 & 0.254 & 0.110 & 0.133 & 0.108 \\\\\n",
      "4000 & 0.099 & 0.082 & 0.086 & 0.073 & 0.247 & 0.106 & 0.129 & 0.103 \\\\\n",
      "5000 & 0.100 & 0.091 & 0.091 & 0.070 & 0.269 & 0.113 & 0.138 & 0.105 \\\\\n",
      "6000 & 0.102 & 0.092 & 0.090 & 0.081 & 0.253 & 0.103 & 0.128 & 0.097 \\\\\n",
      "7000 & 0.100 & 0.091 & 0.090 & 0.074 & 0.254 & 0.105 & 0.127 & 0.099 \\\\\n",
      "8000 & 0.104 & 0.090 & 0.095 & 0.081 & 0.270 & 0.113 & 0.134 & 0.103 \\\\\n",
      "\\bottomrule\n",
      "\\end{tabular}\n",
      "\n"
     ]
    }
   ],
   "source": [
    "pivot = (\n",
    "    # df.filter(pl.col(\"test\").is_in([\"test_3\", \"test_oracle_3\"]))\n",
    "    # .with_columns(\n",
    "    #     [\n",
    "    #         (pl.col(\"p_value\") < level).alias(\"is_test_positive\").cast(pl.Float64),\n",
    "    #         (pl.col(\"p_value_oracle\") < level)\n",
    "    #         .alias(\"is_oracle_test_positive\")\n",
    "    #         .cast(pl.Float64),\n",
    "    #     ]\n",
    "    # )\n",
    "    # .group_by([\"N\", \"time_ar\", \"time_ma\", \"test\"])\n",
    "    # .mean()\n",
    "    # df.filter(~pl.col('time_ar').is_in([0.0, 0.2, 0.4, 0.6]))\n",
    "    df.to_pandas().pivot(\n",
    "        index=\"N\",\n",
    "        columns=[\"test\"],\n",
    "        values=[\"is_positive\", \"is_positive_no_rn\"],\n",
    "    )\n",
    ")\n",
    "print(pivot.to_latex(float_format=\"%.3f\"))"
   ]
  },
  {
   "cell_type": "code",
   "execution_count": 32,
   "metadata": {},
   "outputs": [
    {
     "data": {
      "text/html": [
       "<div>\n",
       "<style scoped>\n",
       "    .dataframe tbody tr th:only-of-type {\n",
       "        vertical-align: middle;\n",
       "    }\n",
       "\n",
       "    .dataframe tbody tr th {\n",
       "        vertical-align: top;\n",
       "    }\n",
       "\n",
       "    .dataframe thead tr th {\n",
       "        text-align: left;\n",
       "    }\n",
       "\n",
       "    .dataframe thead tr:last-of-type th {\n",
       "        text-align: right;\n",
       "    }\n",
       "</style>\n",
       "<table border=\"1\" class=\"dataframe\">\n",
       "  <thead>\n",
       "    <tr>\n",
       "      <th></th>\n",
       "      <th colspan=\"4\" halign=\"left\">is_positive</th>\n",
       "      <th colspan=\"4\" halign=\"left\">is_positive_no_rn</th>\n",
       "    </tr>\n",
       "    <tr>\n",
       "      <th>test</th>\n",
       "      <th>is_positive_1</th>\n",
       "      <th>is_positive_2</th>\n",
       "      <th>is_positive_3</th>\n",
       "      <th>is_positive_4</th>\n",
       "      <th>is_positive_1</th>\n",
       "      <th>is_positive_2</th>\n",
       "      <th>is_positive_3</th>\n",
       "      <th>is_positive_4</th>\n",
       "    </tr>\n",
       "    <tr>\n",
       "      <th>N</th>\n",
       "      <th></th>\n",
       "      <th></th>\n",
       "      <th></th>\n",
       "      <th></th>\n",
       "      <th></th>\n",
       "      <th></th>\n",
       "      <th></th>\n",
       "      <th></th>\n",
       "    </tr>\n",
       "  </thead>\n",
       "  <tbody>\n",
       "    <tr>\n",
       "      <th>1000</th>\n",
       "      <td>0.0982</td>\n",
       "      <td>0.0789</td>\n",
       "      <td>0.0890</td>\n",
       "      <td>0.0719</td>\n",
       "      <td>0.2439</td>\n",
       "      <td>0.1197</td>\n",
       "      <td>0.1462</td>\n",
       "      <td>0.1186</td>\n",
       "    </tr>\n",
       "    <tr>\n",
       "      <th>2000</th>\n",
       "      <td>0.1153</td>\n",
       "      <td>0.0961</td>\n",
       "      <td>0.0965</td>\n",
       "      <td>0.0714</td>\n",
       "      <td>0.2782</td>\n",
       "      <td>0.1269</td>\n",
       "      <td>0.1499</td>\n",
       "      <td>0.1126</td>\n",
       "    </tr>\n",
       "    <tr>\n",
       "      <th>3000</th>\n",
       "      <td>0.1068</td>\n",
       "      <td>0.0872</td>\n",
       "      <td>0.0926</td>\n",
       "      <td>0.0772</td>\n",
       "      <td>0.2542</td>\n",
       "      <td>0.1100</td>\n",
       "      <td>0.1334</td>\n",
       "      <td>0.1082</td>\n",
       "    </tr>\n",
       "    <tr>\n",
       "      <th>4000</th>\n",
       "      <td>0.0991</td>\n",
       "      <td>0.0820</td>\n",
       "      <td>0.0863</td>\n",
       "      <td>0.0730</td>\n",
       "      <td>0.2473</td>\n",
       "      <td>0.1064</td>\n",
       "      <td>0.1294</td>\n",
       "      <td>0.1035</td>\n",
       "    </tr>\n",
       "    <tr>\n",
       "      <th>5000</th>\n",
       "      <td>0.0999</td>\n",
       "      <td>0.0913</td>\n",
       "      <td>0.0906</td>\n",
       "      <td>0.0701</td>\n",
       "      <td>0.2689</td>\n",
       "      <td>0.1131</td>\n",
       "      <td>0.1380</td>\n",
       "      <td>0.1051</td>\n",
       "    </tr>\n",
       "    <tr>\n",
       "      <th>6000</th>\n",
       "      <td>0.1020</td>\n",
       "      <td>0.0919</td>\n",
       "      <td>0.0905</td>\n",
       "      <td>0.0805</td>\n",
       "      <td>0.2525</td>\n",
       "      <td>0.1032</td>\n",
       "      <td>0.1276</td>\n",
       "      <td>0.0974</td>\n",
       "    </tr>\n",
       "    <tr>\n",
       "      <th>7000</th>\n",
       "      <td>0.1003</td>\n",
       "      <td>0.0909</td>\n",
       "      <td>0.0901</td>\n",
       "      <td>0.0739</td>\n",
       "      <td>0.2537</td>\n",
       "      <td>0.1051</td>\n",
       "      <td>0.1271</td>\n",
       "      <td>0.0989</td>\n",
       "    </tr>\n",
       "    <tr>\n",
       "      <th>8000</th>\n",
       "      <td>0.1036</td>\n",
       "      <td>0.0897</td>\n",
       "      <td>0.0946</td>\n",
       "      <td>0.0807</td>\n",
       "      <td>0.2704</td>\n",
       "      <td>0.1130</td>\n",
       "      <td>0.1336</td>\n",
       "      <td>0.1031</td>\n",
       "    </tr>\n",
       "  </tbody>\n",
       "</table>\n",
       "</div>"
      ],
      "text/plain": [
       "       is_positive                                            \\\n",
       "test is_positive_1 is_positive_2 is_positive_3 is_positive_4   \n",
       "N                                                              \n",
       "1000        0.0982        0.0789        0.0890        0.0719   \n",
       "2000        0.1153        0.0961        0.0965        0.0714   \n",
       "3000        0.1068        0.0872        0.0926        0.0772   \n",
       "4000        0.0991        0.0820        0.0863        0.0730   \n",
       "5000        0.0999        0.0913        0.0906        0.0701   \n",
       "6000        0.1020        0.0919        0.0905        0.0805   \n",
       "7000        0.1003        0.0909        0.0901        0.0739   \n",
       "8000        0.1036        0.0897        0.0946        0.0807   \n",
       "\n",
       "     is_positive_no_rn                                            \n",
       "test     is_positive_1 is_positive_2 is_positive_3 is_positive_4  \n",
       "N                                                                 \n",
       "1000            0.2439        0.1197        0.1462        0.1186  \n",
       "2000            0.2782        0.1269        0.1499        0.1126  \n",
       "3000            0.2542        0.1100        0.1334        0.1082  \n",
       "4000            0.2473        0.1064        0.1294        0.1035  \n",
       "5000            0.2689        0.1131        0.1380        0.1051  \n",
       "6000            0.2525        0.1032        0.1276        0.0974  \n",
       "7000            0.2537        0.1051        0.1271        0.0989  \n",
       "8000            0.2704        0.1130        0.1336        0.1031  "
      ]
     },
     "execution_count": 32,
     "metadata": {},
     "output_type": "execute_result"
    }
   ],
   "source": [
    "pivot"
   ]
  },
  {
   "cell_type": "markdown",
   "metadata": {},
   "source": [
    "# Power check"
   ]
  },
  {
   "cell_type": "markdown",
   "metadata": {},
   "source": [
    "## AR covariance structure"
   ]
  },
  {
   "cell_type": "code",
   "execution_count": null,
   "metadata": {},
   "outputs": [],
   "source": [
    "def run(\n",
    "    precomputed,\n",
    "    N,\n",
    "    M,\n",
    "    B,\n",
    "    L,\n",
    "    c,\n",
    "    time_ar,\n",
    "    time_ma,\n",
    "    space_ar,\n",
    "    is_complex_gaussian,\n",
    "):\n",
    "    f_against_mp, f_against_D, sigma = precomputed\n",
    "    y = generate_arma_sample(\n",
    "        N,\n",
    "        M,\n",
    "        time_ar,\n",
    "        time_ma,\n",
    "        is_complex_gaussian,\n",
    "    )\n",
    "    Cov = generate_ar_covariance_matrix(M, space_ar)\n",
    "    y = y @ sqrtm(Cov)\n",
    "\n",
    "    freqs = get_freqs(N, B)\n",
    "\n",
    "    lrv_result = LRV(\n",
    "        y,\n",
    "        B,\n",
    "        f,\n",
    "        freqs,\n",
    "        L,\n",
    "        f_against_mp=f_against_mp,\n",
    "        f_against_D=f_against_D,\n",
    "        sigma=sigma,\n",
    "    )\n",
    "    return {\n",
    "        \"N\": N,\n",
    "        \"M\": M,\n",
    "        \"B\": B,\n",
    "        \"L\": L,\n",
    "        \"c\": c,\n",
    "        \"time_ar\": time_ar,\n",
    "        \"time_ma\": time_ma,\n",
    "        \"space_ar\": space_ar,\n",
    "        \"is_complex_gaussian\": is_complex_gaussian,\n",
    "        \"t_stat_1\": lrv_result.t_stat_1,\n",
    "        \"t_stat_2\": lrv_result.t_stat_2,\n",
    "        \"t_stat_3\": lrv_result.t_stat_3,\n",
    "        \"t_stat_4\": lrv_result.t_stat_4,\n",
    "        \"is_positive_1\": lrv_result.is_positive_1(level),\n",
    "        \"is_positive_2\": lrv_result.is_positive_2(level),\n",
    "        \"is_positive_3\": lrv_result.is_positive_3(level),\n",
    "        \"is_positive_4\": lrv_result.is_positive_4(level),\n",
    "    }"
   ]
  },
  {
   "cell_type": "code",
   "execution_count": null,
   "metadata": {},
   "outputs": [
    {
     "name": "stderr",
     "output_type": "stream",
     "text": [
      "  0%|          | 0/8 [00:00<?, ?it/s]"
     ]
    },
    {
     "name": "stdout",
     "output_type": "stream",
     "text": [
      "Running N=7000_M=171_B=343_L=9_c=0.5_time_ar=0.1_time_ma=0.5_space_ar=0.05_is_complex_gaussian=True\n",
      "Running N=2000_M=74_B=149_L=6_c=0.5_time_ar=0.1_time_ma=0.5_space_ar=0.05_is_complex_gaussian=True\n",
      "Running N=8000_M=187_B=375_L=9_c=0.5_time_ar=0.1_time_ma=0.5_space_ar=0.05_is_complex_gaussian=True\n",
      "Running N=1000_M=47_B=95_L=5_c=0.5_time_ar=0.1_time_ma=0.5_space_ar=0.05_is_complex_gaussian=True\n"
     ]
    },
    {
     "name": "stderr",
     "output_type": "stream",
     "text": [
      "100%|██████████| 8/8 [00:02<00:00,  2.72it/s]\n"
     ]
    },
    {
     "name": "stdout",
     "output_type": "stream",
     "text": [
      "Running N=3000_M=98_B=197_L=7_c=0.5_time_ar=0.1_time_ma=0.5_space_ar=0.05_is_complex_gaussian=True\n",
      "Running N=4000_M=118_B=237_L=7_c=0.5_time_ar=0.1_time_ma=0.5_space_ar=0.05_is_complex_gaussian=True\n",
      "Running N=6000_M=155_B=311_L=8_c=0.5_time_ar=0.1_time_ma=0.5_space_ar=0.05_is_complex_gaussian=True\n",
      "Running N=5000_M=137_B=275_L=8_c=0.5_time_ar=0.1_time_ma=0.5_space_ar=0.05_is_complex_gaussian=True\n"
     ]
    }
   ],
   "source": [
    "# ARMA covariance structure\n",
    "space_ar = 0.05\n",
    "\n",
    "tasks = []\n",
    "for N in N_range:\n",
    "    L = int(N**gamma)\n",
    "    B = int(N**alpha)\n",
    "    if B % 2 == 0:\n",
    "        B -= 1\n",
    "    M = int(B * c)\n",
    "\n",
    "    task = (\n",
    "        run,\n",
    "        n_repeats,\n",
    "        f\"ar_dependence\",\n",
    "        {\n",
    "            \"N\": int(N),\n",
    "            \"M\": int(M),\n",
    "            \"B\": int(B),\n",
    "            \"L\": int(L),\n",
    "            \"c\": c,\n",
    "            \"time_ar\": time_ar,\n",
    "            \"time_ma\": time_ma,\n",
    "            \"space_ar\": space_ar,\n",
    "            \"is_complex_gaussian\": is_complex_gaussian,\n",
    "        },\n",
    "    )\n",
    "\n",
    "    tasks.append(task)\n",
    "\n",
    "# shuffle the tasks to distribute the load over time\n",
    "np.random.shuffle(tasks)\n",
    "results = Parallel(n_jobs=4)(delayed(run_batch)(*task) for task in tqdm(tasks))\n",
    "\n",
    "df = load_batch(f\"ar_dependence\").drop([\"time_ar\", \"time_ma\"])\n",
    "df = df.unpivot(\n",
    "    index=[\"N\", \"M\", \"B\", \"L\", \"c\", \"is_complex_gaussian\"],\n",
    "    on=[f\"is_positive_{i}\" for i in range(1, 5)],\n",
    "    value_name=\"is_positive\",\n",
    "    variable_name=\"test\",\n",
    ")"
   ]
  },
  {
   "cell_type": "code",
   "execution_count": null,
   "metadata": {},
   "outputs": [
    {
     "name": "stdout",
     "output_type": "stream",
     "text": [
      "\\begin{tabular}{lrrrr}\n",
      "\\toprule\n",
      "test & is_positive_1 & is_positive_2 & is_positive_3 & is_positive_4 \\\\\n",
      "N &  &  &  &  \\\\\n",
      "\\midrule\n",
      "1000 & 0.180 & 0.110 & 0.170 & 0.090 \\\\\n",
      "2000 & 0.500 & 0.230 & 0.290 & 0.160 \\\\\n",
      "3000 & 0.790 & 0.400 & 0.460 & 0.250 \\\\\n",
      "4000 & 0.960 & 0.610 & 0.670 & 0.400 \\\\\n",
      "5000 & 0.990 & 0.800 & 0.840 & 0.460 \\\\\n",
      "6000 & 1.000 & 0.870 & 0.890 & 0.570 \\\\\n",
      "7000 & 1.000 & 0.960 & 0.960 & 0.650 \\\\\n",
      "8000 & 1.000 & 0.970 & 0.980 & 0.750 \\\\\n",
      "\\bottomrule\n",
      "\\end{tabular}\n",
      "\n"
     ]
    }
   ],
   "source": [
    "pivot = (\n",
    "    df.group_by([\"N\", \"test\"])\n",
    "    .mean()\n",
    "    .to_pandas()\n",
    "    .pivot(index=\"N\", columns=[\"test\"], values=\"is_positive\")\n",
    ")\n",
    "print(pivot.to_latex(float_format=\"%.3f\"))"
   ]
  },
  {
   "cell_type": "code",
   "execution_count": null,
   "metadata": {},
   "outputs": [
    {
     "data": {
      "text/html": [
       "<div>\n",
       "<style scoped>\n",
       "    .dataframe tbody tr th:only-of-type {\n",
       "        vertical-align: middle;\n",
       "    }\n",
       "\n",
       "    .dataframe tbody tr th {\n",
       "        vertical-align: top;\n",
       "    }\n",
       "\n",
       "    .dataframe thead th {\n",
       "        text-align: right;\n",
       "    }\n",
       "</style>\n",
       "<table border=\"1\" class=\"dataframe\">\n",
       "  <thead>\n",
       "    <tr style=\"text-align: right;\">\n",
       "      <th>test</th>\n",
       "      <th>is_positive_1</th>\n",
       "      <th>is_positive_2</th>\n",
       "      <th>is_positive_3</th>\n",
       "      <th>is_positive_4</th>\n",
       "    </tr>\n",
       "    <tr>\n",
       "      <th>N</th>\n",
       "      <th></th>\n",
       "      <th></th>\n",
       "      <th></th>\n",
       "      <th></th>\n",
       "    </tr>\n",
       "  </thead>\n",
       "  <tbody>\n",
       "    <tr>\n",
       "      <th>1000</th>\n",
       "      <td>0.18</td>\n",
       "      <td>0.11</td>\n",
       "      <td>0.17</td>\n",
       "      <td>0.09</td>\n",
       "    </tr>\n",
       "    <tr>\n",
       "      <th>2000</th>\n",
       "      <td>0.50</td>\n",
       "      <td>0.23</td>\n",
       "      <td>0.29</td>\n",
       "      <td>0.16</td>\n",
       "    </tr>\n",
       "    <tr>\n",
       "      <th>3000</th>\n",
       "      <td>0.79</td>\n",
       "      <td>0.40</td>\n",
       "      <td>0.46</td>\n",
       "      <td>0.25</td>\n",
       "    </tr>\n",
       "    <tr>\n",
       "      <th>4000</th>\n",
       "      <td>0.96</td>\n",
       "      <td>0.61</td>\n",
       "      <td>0.67</td>\n",
       "      <td>0.40</td>\n",
       "    </tr>\n",
       "    <tr>\n",
       "      <th>5000</th>\n",
       "      <td>0.99</td>\n",
       "      <td>0.80</td>\n",
       "      <td>0.84</td>\n",
       "      <td>0.46</td>\n",
       "    </tr>\n",
       "    <tr>\n",
       "      <th>6000</th>\n",
       "      <td>1.00</td>\n",
       "      <td>0.87</td>\n",
       "      <td>0.89</td>\n",
       "      <td>0.57</td>\n",
       "    </tr>\n",
       "    <tr>\n",
       "      <th>7000</th>\n",
       "      <td>1.00</td>\n",
       "      <td>0.96</td>\n",
       "      <td>0.96</td>\n",
       "      <td>0.65</td>\n",
       "    </tr>\n",
       "    <tr>\n",
       "      <th>8000</th>\n",
       "      <td>1.00</td>\n",
       "      <td>0.97</td>\n",
       "      <td>0.98</td>\n",
       "      <td>0.75</td>\n",
       "    </tr>\n",
       "  </tbody>\n",
       "</table>\n",
       "</div>"
      ],
      "text/plain": [
       "test  is_positive_1  is_positive_2  is_positive_3  is_positive_4\n",
       "N                                                               \n",
       "1000           0.18           0.11           0.17           0.09\n",
       "2000           0.50           0.23           0.29           0.16\n",
       "3000           0.79           0.40           0.46           0.25\n",
       "4000           0.96           0.61           0.67           0.40\n",
       "5000           0.99           0.80           0.84           0.46\n",
       "6000           1.00           0.87           0.89           0.57\n",
       "7000           1.00           0.96           0.96           0.65\n",
       "8000           1.00           0.97           0.98           0.75"
      ]
     },
     "execution_count": 23,
     "metadata": {},
     "output_type": "execute_result"
    }
   ],
   "source": [
    "pivot"
   ]
  },
  {
   "cell_type": "markdown",
   "metadata": {},
   "source": [
    "## Common random dependence\n"
   ]
  },
  {
   "cell_type": "code",
   "execution_count": null,
   "metadata": {},
   "outputs": [],
   "source": [
    "def run(\n",
    "    precomputed,\n",
    "    N,\n",
    "    M,\n",
    "    B,\n",
    "    L,\n",
    "    c,\n",
    "    time_ar,\n",
    "    time_ma,\n",
    "    mixing_scale,\n",
    "    is_complex_gaussian,\n",
    "):\n",
    "    f_against_mp, f_against_D, sigma = precomputed\n",
    "\n",
    "    freqs = get_freqs(N, B)\n",
    "\n",
    "    y = common_random_dependence_sample(\n",
    "        N, M, time_ar, time_ma, mixing_scale, is_complex_gaussian\n",
    "    )\n",
    "\n",
    "    lrv_result = LRV(\n",
    "        y,\n",
    "        B,\n",
    "        f,\n",
    "        freqs,\n",
    "        L,\n",
    "        f_against_mp=f_against_mp,\n",
    "        f_against_D=f_against_D,\n",
    "        sigma=sigma,\n",
    "    )\n",
    "    return {\n",
    "        \"N\": N,\n",
    "        \"M\": M,\n",
    "        \"B\": B,\n",
    "        \"L\": L,\n",
    "        \"c\": c,\n",
    "        \"time_ar\": time_ar,\n",
    "        \"time_ma\": time_ma,\n",
    "        \"mixing_scale\": mixing_scale,\n",
    "        \"is_complex_gaussian\": is_complex_gaussian,\n",
    "        \"t_stat_1\": lrv_result.t_stat_1,\n",
    "        \"t_stat_2\": lrv_result.t_stat_2,\n",
    "        \"t_stat_3\": lrv_result.t_stat_3,\n",
    "        \"t_stat_4\": lrv_result.t_stat_4,\n",
    "        \"is_positive_1\": lrv_result.is_positive_1(level),\n",
    "        \"is_positive_2\": lrv_result.is_positive_2(level),\n",
    "        \"is_positive_3\": lrv_result.is_positive_3(level),\n",
    "        \"is_positive_4\": lrv_result.is_positive_4(level),\n",
    "    }"
   ]
  },
  {
   "cell_type": "code",
   "execution_count": null,
   "metadata": {},
   "outputs": [
    {
     "name": "stderr",
     "output_type": "stream",
     "text": [
      "  0%|          | 0/8 [00:00<?, ?it/s]"
     ]
    },
    {
     "name": "stdout",
     "output_type": "stream",
     "text": [
      "Running N=1000_M=47_B=95_L=5_c=0.5_time_ar=0.1_time_ma=0.5_mixing_scale=0.05_is_complex_gaussian=True\n",
      "Running N=8000_M=187_B=375_L=9_c=0.5_time_ar=0.1_time_ma=0.5_mixing_scale=0.05_is_complex_gaussian=True\n",
      "Running N=3000_M=98_B=197_L=7_c=0.5_time_ar=0.1_time_ma=0.5_mixing_scale=0.05_is_complex_gaussian=True\n",
      "Running N=2000_M=74_B=149_L=6_c=0.5_time_ar=0.1_time_ma=0.5_mixing_scale=0.05_is_complex_gaussian=True\n"
     ]
    },
    {
     "name": "stderr",
     "output_type": "stream",
     "text": [
      "100%|██████████| 8/8 [00:02<00:00,  2.99it/s]\n"
     ]
    },
    {
     "name": "stdout",
     "output_type": "stream",
     "text": [
      "Running N=6000_M=155_B=311_L=8_c=0.5_time_ar=0.1_time_ma=0.5_mixing_scale=0.05_is_complex_gaussian=True\n",
      "Running N=4000_M=118_B=237_L=7_c=0.5_time_ar=0.1_time_ma=0.5_mixing_scale=0.05_is_complex_gaussian=True\n",
      "Running N=5000_M=137_B=275_L=8_c=0.5_time_ar=0.1_time_ma=0.5_mixing_scale=0.05_is_complex_gaussian=True\n",
      "Running N=7000_M=171_B=343_L=9_c=0.5_time_ar=0.1_time_ma=0.5_mixing_scale=0.05_is_complex_gaussian=True\n"
     ]
    }
   ],
   "source": [
    "mixing_scale = 0.05\n",
    "\n",
    "tasks = []\n",
    "for N in N_range:\n",
    "    L = int(N**gamma)\n",
    "    B = int(N**alpha)\n",
    "    if B % 2 == 0:\n",
    "        B -= 1\n",
    "    M = int(B * c)\n",
    "\n",
    "    task = (\n",
    "        run,\n",
    "        n_repeats,\n",
    "        \"common_random_dependence\",\n",
    "        {\n",
    "            \"N\": int(N),\n",
    "            \"M\": int(M),\n",
    "            \"B\": int(B),\n",
    "            \"L\": int(L),\n",
    "            \"c\": c,\n",
    "            \"time_ar\": time_ar,\n",
    "            \"time_ma\": time_ma,\n",
    "            \"mixing_scale\": mixing_scale,\n",
    "            \"is_complex_gaussian\": is_complex_gaussian,\n",
    "        },\n",
    "    )\n",
    "\n",
    "    tasks.append(task)\n",
    "\n",
    "# shuffle the tasks to distribute the load over time\n",
    "np.random.shuffle(tasks)\n",
    "results = Parallel(n_jobs=4)(delayed(run_batch)(*task) for task in tqdm(tasks))\n",
    "\n",
    "df = load_batch(f\"common_random_dependence\").drop([\"time_ar\", \"time_ma\"])\n",
    "df = df.unpivot(\n",
    "    index=[\"N\", \"M\", \"B\", \"L\", \"c\", \"is_complex_gaussian\"],\n",
    "    on=[f\"is_positive_{i}\" for i in range(1, 5)],\n",
    "    value_name=\"is_positive\",\n",
    "    variable_name=\"test\",\n",
    ")"
   ]
  },
  {
   "cell_type": "code",
   "execution_count": null,
   "metadata": {},
   "outputs": [
    {
     "name": "stdout",
     "output_type": "stream",
     "text": [
      "\\begin{tabular}{lrrrr}\n",
      "\\toprule\n",
      "test & is_positive_1 & is_positive_2 & is_positive_3 & is_positive_4 \\\\\n",
      "N &  &  &  &  \\\\\n",
      "\\midrule\n",
      "1000 & 0.160 & 0.220 & 0.240 & 0.150 \\\\\n",
      "2000 & 0.470 & 0.270 & 0.290 & 0.220 \\\\\n",
      "3000 & 0.740 & 0.380 & 0.470 & 0.300 \\\\\n",
      "4000 & 0.890 & 0.530 & 0.560 & 0.360 \\\\\n",
      "5000 & 0.990 & 0.630 & 0.690 & 0.390 \\\\\n",
      "6000 & 1.000 & 0.880 & 0.910 & 0.560 \\\\\n",
      "7000 & 1.000 & 0.920 & 0.950 & 0.640 \\\\\n",
      "8000 & 1.000 & 0.990 & 1.000 & 0.780 \\\\\n",
      "\\bottomrule\n",
      "\\end{tabular}\n",
      "\n"
     ]
    }
   ],
   "source": [
    "pivot = (\n",
    "    df.group_by([\"N\", \"test\"])\n",
    "    .mean()\n",
    "    .to_pandas()\n",
    "    .pivot(index=\"N\", columns=[\"test\"], values=\"is_positive\")\n",
    ")\n",
    "print(pivot.to_latex(float_format=\"%.3f\"))"
   ]
  },
  {
   "cell_type": "code",
   "execution_count": null,
   "metadata": {},
   "outputs": [
    {
     "data": {
      "text/html": [
       "<div>\n",
       "<style scoped>\n",
       "    .dataframe tbody tr th:only-of-type {\n",
       "        vertical-align: middle;\n",
       "    }\n",
       "\n",
       "    .dataframe tbody tr th {\n",
       "        vertical-align: top;\n",
       "    }\n",
       "\n",
       "    .dataframe thead th {\n",
       "        text-align: right;\n",
       "    }\n",
       "</style>\n",
       "<table border=\"1\" class=\"dataframe\">\n",
       "  <thead>\n",
       "    <tr style=\"text-align: right;\">\n",
       "      <th>test</th>\n",
       "      <th>is_positive_1</th>\n",
       "      <th>is_positive_2</th>\n",
       "      <th>is_positive_3</th>\n",
       "      <th>is_positive_4</th>\n",
       "    </tr>\n",
       "    <tr>\n",
       "      <th>N</th>\n",
       "      <th></th>\n",
       "      <th></th>\n",
       "      <th></th>\n",
       "      <th></th>\n",
       "    </tr>\n",
       "  </thead>\n",
       "  <tbody>\n",
       "    <tr>\n",
       "      <th>1000</th>\n",
       "      <td>0.16</td>\n",
       "      <td>0.22</td>\n",
       "      <td>0.24</td>\n",
       "      <td>0.15</td>\n",
       "    </tr>\n",
       "    <tr>\n",
       "      <th>2000</th>\n",
       "      <td>0.47</td>\n",
       "      <td>0.27</td>\n",
       "      <td>0.29</td>\n",
       "      <td>0.22</td>\n",
       "    </tr>\n",
       "    <tr>\n",
       "      <th>3000</th>\n",
       "      <td>0.74</td>\n",
       "      <td>0.38</td>\n",
       "      <td>0.47</td>\n",
       "      <td>0.30</td>\n",
       "    </tr>\n",
       "    <tr>\n",
       "      <th>4000</th>\n",
       "      <td>0.89</td>\n",
       "      <td>0.53</td>\n",
       "      <td>0.56</td>\n",
       "      <td>0.36</td>\n",
       "    </tr>\n",
       "    <tr>\n",
       "      <th>5000</th>\n",
       "      <td>0.99</td>\n",
       "      <td>0.63</td>\n",
       "      <td>0.69</td>\n",
       "      <td>0.39</td>\n",
       "    </tr>\n",
       "    <tr>\n",
       "      <th>6000</th>\n",
       "      <td>1.00</td>\n",
       "      <td>0.88</td>\n",
       "      <td>0.91</td>\n",
       "      <td>0.56</td>\n",
       "    </tr>\n",
       "    <tr>\n",
       "      <th>7000</th>\n",
       "      <td>1.00</td>\n",
       "      <td>0.92</td>\n",
       "      <td>0.95</td>\n",
       "      <td>0.64</td>\n",
       "    </tr>\n",
       "    <tr>\n",
       "      <th>8000</th>\n",
       "      <td>1.00</td>\n",
       "      <td>0.99</td>\n",
       "      <td>1.00</td>\n",
       "      <td>0.78</td>\n",
       "    </tr>\n",
       "  </tbody>\n",
       "</table>\n",
       "</div>"
      ],
      "text/plain": [
       "test  is_positive_1  is_positive_2  is_positive_3  is_positive_4\n",
       "N                                                               \n",
       "1000           0.16           0.22           0.24           0.15\n",
       "2000           0.47           0.27           0.29           0.22\n",
       "3000           0.74           0.38           0.47           0.30\n",
       "4000           0.89           0.53           0.56           0.36\n",
       "5000           0.99           0.63           0.69           0.39\n",
       "6000           1.00           0.88           0.91           0.56\n",
       "7000           1.00           0.92           0.95           0.64\n",
       "8000           1.00           0.99           1.00           0.78"
      ]
     },
     "execution_count": 27,
     "metadata": {},
     "output_type": "execute_result"
    }
   ],
   "source": [
    "pivot"
   ]
  },
  {
   "cell_type": "markdown",
   "metadata": {},
   "source": [
    "## Factor model "
   ]
  },
  {
   "cell_type": "code",
   "execution_count": null,
   "metadata": {},
   "outputs": [],
   "source": [
    "def run(\n",
    "    precomputed,\n",
    "    N,\n",
    "    M,\n",
    "    B,\n",
    "    L,\n",
    "    r,\n",
    "    snr,\n",
    "    time_ar,\n",
    "    time_ma,\n",
    "    is_complex_gaussian,\n",
    "):\n",
    "    f_against_mp, f_against_D, sigma = precomputed\n",
    "\n",
    "    freqs = get_freqs(N, B)\n",
    "\n",
    "    y = factor_model_sample(N, M, r, time_ar, time_ma, snr, is_complex_gaussian)\n",
    "\n",
    "    lrv_result = LRV(\n",
    "        y,\n",
    "        B,\n",
    "        f,\n",
    "        freqs,\n",
    "        L,\n",
    "        f_against_mp=f_against_mp,\n",
    "        f_against_D=f_against_D,\n",
    "        sigma=sigma,\n",
    "    )\n",
    "    return {\n",
    "        \"N\": N,\n",
    "        \"M\": M,\n",
    "        \"B\": B,\n",
    "        \"L\": L,\n",
    "        \"r\": r,\n",
    "        \"c\": c,\n",
    "        \"snr\": snr,\n",
    "        \"time_ar\": time_ar,\n",
    "        \"time_ma\": time_ma,\n",
    "        \"is_complex_gaussian\": is_complex_gaussian,\n",
    "        \"t_stat_1\": lrv_result.t_stat_1,\n",
    "        \"t_stat_2\": lrv_result.t_stat_2,\n",
    "        \"t_stat_3\": lrv_result.t_stat_3,\n",
    "        \"t_stat_4\": lrv_result.t_stat_4,\n",
    "        \"is_positive_1\": lrv_result.is_positive_1(level),\n",
    "        \"is_positive_2\": lrv_result.is_positive_2(level),\n",
    "        \"is_positive_3\": lrv_result.is_positive_3(level),\n",
    "        \"is_positive_4\": lrv_result.is_positive_4(level),\n",
    "    }"
   ]
  },
  {
   "cell_type": "code",
   "execution_count": null,
   "metadata": {},
   "outputs": [
    {
     "name": "stderr",
     "output_type": "stream",
     "text": [
      "  0%|          | 0/16 [00:00<?, ?it/s]"
     ]
    },
    {
     "name": "stdout",
     "output_type": "stream",
     "text": [
      "Running N=6000_M=155_B=311_L=8_r=1_snr=0.1_time_ar=0.1_time_ma=0.5_is_complex_gaussian=True\n",
      "Running N=3000_M=98_B=197_L=7_r=1_snr=0.05_time_ar=0.1_time_ma=0.5_is_complex_gaussian=True\n",
      "Running N=2000_M=74_B=149_L=6_r=1_snr=0.1_time_ar=0.1_time_ma=0.5_is_complex_gaussian=True\n",
      "Running N=4000_M=118_B=237_L=7_r=1_snr=0.05_time_ar=0.1_time_ma=0.5_is_complex_gaussian=True\n"
     ]
    },
    {
     "name": "stderr",
     "output_type": "stream",
     "text": [
      " 50%|█████     | 8/16 [00:11<00:11,  1.38s/it]"
     ]
    },
    {
     "name": "stdout",
     "output_type": "stream",
     "text": [
      "Running N=1000_M=47_B=95_L=5_r=1_snr=0.05_time_ar=0.1_time_ma=0.5_is_complex_gaussian=True\n",
      "Running N=8000_M=187_B=375_L=9_r=1_snr=0.1_time_ar=0.1_time_ma=0.5_is_complex_gaussian=True\n",
      "Running N=2000_M=74_B=149_L=6_r=1_snr=0.05_time_ar=0.1_time_ma=0.5_is_complex_gaussian=True\n",
      "Running N=1000_M=47_B=95_L=5_r=1_snr=0.1_time_ar=0.1_time_ma=0.5_is_complex_gaussian=True\n"
     ]
    },
    {
     "name": "stderr",
     "output_type": "stream",
     "text": [
      " 75%|███████▌  | 12/16 [00:28<00:10,  2.67s/it]"
     ]
    },
    {
     "name": "stdout",
     "output_type": "stream",
     "text": [
      "Running N=7000_M=171_B=343_L=9_r=1_snr=0.05_time_ar=0.1_time_ma=0.5_is_complex_gaussian=True\n",
      "Running N=8000_M=187_B=375_L=9_r=1_snr=0.05_time_ar=0.1_time_ma=0.5_is_complex_gaussian=True\n",
      "Running N=4000_M=118_B=237_L=7_r=1_snr=0.1_time_ar=0.1_time_ma=0.5_is_complex_gaussian=True\n",
      "Running N=3000_M=98_B=197_L=7_r=1_snr=0.1_time_ar=0.1_time_ma=0.5_is_complex_gaussian=True\n"
     ]
    },
    {
     "name": "stderr",
     "output_type": "stream",
     "text": [
      "100%|██████████| 16/16 [01:29<00:00,  5.62s/it]\n"
     ]
    },
    {
     "name": "stdout",
     "output_type": "stream",
     "text": [
      "Running N=6000_M=155_B=311_L=8_r=1_snr=0.05_time_ar=0.1_time_ma=0.5_is_complex_gaussian=True\n",
      "Running N=5000_M=137_B=275_L=8_r=1_snr=0.1_time_ar=0.1_time_ma=0.5_is_complex_gaussian=True\n",
      "Running N=5000_M=137_B=275_L=8_r=1_snr=0.05_time_ar=0.1_time_ma=0.5_is_complex_gaussian=True\n",
      "Running N=7000_M=171_B=343_L=9_r=1_snr=0.1_time_ar=0.1_time_ma=0.5_is_complex_gaussian=True\n"
     ]
    }
   ],
   "source": [
    "snr_range = [0.05, 0.1]\n",
    "r = 1\n",
    "\n",
    "tasks = []\n",
    "for snr in snr_range:\n",
    "    for N in N_range:\n",
    "        L = int(N**gamma)\n",
    "        B = int(N**alpha)\n",
    "        if B % 2 == 0:\n",
    "            B -= 1\n",
    "        M = int(B * c)\n",
    "\n",
    "        task = (\n",
    "            run,\n",
    "            n_repeats,\n",
    "            f\"factor_model\",\n",
    "            {\n",
    "                \"N\": int(N),\n",
    "                \"M\": int(M),\n",
    "                \"B\": int(B),\n",
    "                \"L\": int(L),\n",
    "                \"r\": r,\n",
    "                \"snr\": snr,\n",
    "                \"time_ar\": time_ar,\n",
    "                \"time_ma\": time_ma,\n",
    "                \"is_complex_gaussian\": is_complex_gaussian,\n",
    "            },\n",
    "        )\n",
    "\n",
    "        tasks.append(task)\n",
    "\n",
    "# shuffle the tasks to distribute the load over time\n",
    "np.random.shuffle(tasks)\n",
    "results = Parallel(n_jobs=4)(delayed(run_batch)(*task) for task in tqdm(tasks))\n",
    "\n",
    "df = load_batch(f\"factor_model\")\n",
    "df = df.unpivot(\n",
    "    index=[\"N\", \"M\", \"B\", \"L\", \"c\", \"snr\", \"r\", \"is_complex_gaussian\"],\n",
    "    on=[f\"is_positive_{i}\" for i in range(1, 5)],\n",
    "    value_name=\"is_positive\",\n",
    "    variable_name=\"test\",\n",
    ")"
   ]
  },
  {
   "cell_type": "code",
   "execution_count": null,
   "metadata": {},
   "outputs": [
    {
     "name": "stdout",
     "output_type": "stream",
     "text": [
      "\\begin{tabular}{lrrrrrrrr}\n",
      "\\toprule\n",
      "snr & \\multicolumn{4}{r}{0.050000} & \\multicolumn{4}{r}{0.100000} \\\\\n",
      "test & is_positive_1 & is_positive_2 & is_positive_3 & is_positive_4 & is_positive_1 & is_positive_2 & is_positive_3 & is_positive_4 \\\\\n",
      "N &  &  &  &  &  &  &  &  \\\\\n",
      "\\midrule\n",
      "1000 & 0.110 & 0.100 & 0.100 & 0.080 & 0.140 & 0.100 & 0.100 & 0.120 \\\\\n",
      "2000 & 0.150 & 0.110 & 0.130 & 0.080 & 0.670 & 0.510 & 0.520 & 0.450 \\\\\n",
      "3000 & 0.110 & 0.110 & 0.090 & 0.080 & 0.920 & 0.870 & 0.890 & 0.870 \\\\\n",
      "4000 & 0.150 & 0.080 & 0.090 & 0.070 & 1.000 & 0.990 & 0.990 & 0.980 \\\\\n",
      "5000 & 0.150 & 0.080 & 0.130 & 0.070 & 1.000 & 1.000 & 1.000 & 1.000 \\\\\n",
      "6000 & 0.200 & 0.140 & 0.170 & 0.060 & 1.000 & 1.000 & 1.000 & 1.000 \\\\\n",
      "7000 & 0.260 & 0.170 & 0.200 & 0.110 & 1.000 & 1.000 & 1.000 & 1.000 \\\\\n",
      "8000 & 0.380 & 0.130 & 0.180 & 0.170 & 1.000 & 1.000 & 1.000 & 1.000 \\\\\n",
      "\\bottomrule\n",
      "\\end{tabular}\n",
      "\n"
     ]
    }
   ],
   "source": [
    "pivot = (\n",
    "    df.group_by([\"N\", \"test\", \"snr\"])\n",
    "    .mean()\n",
    "    .to_pandas()\n",
    "    .pivot(index=\"N\", columns=[\"snr\", \"test\"], values=\"is_positive\")\n",
    ")\n",
    "pivot = pivot.sort_index(axis=1, level=[0, 1])\n",
    "print(pivot.to_latex(float_format=\"%.3f\"))"
   ]
  },
  {
   "cell_type": "code",
   "execution_count": null,
   "metadata": {},
   "outputs": [
    {
     "data": {
      "text/plain": [
       "(np.float64(-13.010299956639813), np.float64(-10.0))"
      ]
     },
     "execution_count": 118,
     "metadata": {},
     "output_type": "execute_result"
    }
   ],
   "source": [
    "import numpy as np\n",
    "\n",
    "10 * np.log10(0.05), 10 * np.log10(0.10)"
   ]
  },
  {
   "cell_type": "code",
   "execution_count": null,
   "metadata": {},
   "outputs": [],
   "source": []
  }
 ],
 "metadata": {
  "kernelspec": {
   "display_name": "Python 3",
   "language": "python",
   "name": "python3"
  },
  "language_info": {
   "codemirror_mode": {
    "name": "ipython",
    "version": 3
   },
   "file_extension": ".py",
   "mimetype": "text/x-python",
   "name": "python",
   "nbconvert_exporter": "python",
   "pygments_lexer": "ipython3",
   "version": "3.12.5"
  }
 },
 "nbformat": 4,
 "nbformat_minor": 2
}
